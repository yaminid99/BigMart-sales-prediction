{
 "cells": [
  {
   "cell_type": "markdown",
   "metadata": {},
   "source": [
    "# ML ASSIGNMENT ON REGRESSION"
   ]
  },
  {
   "cell_type": "code",
   "execution_count": 1,
   "metadata": {
    "execution": {
     "iopub.execute_input": "2023-01-18T09:04:17.342752Z",
     "iopub.status.busy": "2023-01-18T09:04:17.341950Z",
     "iopub.status.idle": "2023-01-18T09:04:18.307853Z",
     "shell.execute_reply": "2023-01-18T09:04:18.306959Z",
     "shell.execute_reply.started": "2023-01-18T09:04:17.342695Z"
    }
   },
   "outputs": [],
   "source": [
    "# Importing Libraries\n",
    "import pandas as pd\n",
    "import numpy as np\n",
    "from scipy.stats import mode\n",
    "import seaborn as sns\n",
    "from matplotlib import pyplot as plt"
   ]
  },
  {
   "cell_type": "code",
   "execution_count": 2,
   "metadata": {
    "execution": {
     "iopub.execute_input": "2023-01-18T09:04:18.310630Z",
     "iopub.status.busy": "2023-01-18T09:04:18.309950Z",
     "iopub.status.idle": "2023-01-18T09:04:18.401616Z",
     "shell.execute_reply": "2023-01-18T09:04:18.400553Z",
     "shell.execute_reply.started": "2023-01-18T09:04:18.310580Z"
    }
   },
   "outputs": [],
   "source": [
    "# Reading the Train and Test CSV files\n",
    "train = pd.read_csv(\"../input/bigmart-dataset/Train.csv\")\n",
    "test = pd.read_csv(\"../input/bigmart-dataset/Test.csv\")"
   ]
  },
  {
   "cell_type": "code",
   "execution_count": 3,
   "metadata": {
    "execution": {
     "iopub.execute_input": "2023-01-18T09:04:18.403725Z",
     "iopub.status.busy": "2023-01-18T09:04:18.403301Z",
     "iopub.status.idle": "2023-01-18T09:04:18.435137Z",
     "shell.execute_reply": "2023-01-18T09:04:18.433993Z",
     "shell.execute_reply.started": "2023-01-18T09:04:18.403671Z"
    }
   },
   "outputs": [
    {
     "data": {
      "text/html": [
       "<div>\n",
       "<style scoped>\n",
       "    .dataframe tbody tr th:only-of-type {\n",
       "        vertical-align: middle;\n",
       "    }\n",
       "\n",
       "    .dataframe tbody tr th {\n",
       "        vertical-align: top;\n",
       "    }\n",
       "\n",
       "    .dataframe thead th {\n",
       "        text-align: right;\n",
       "    }\n",
       "</style>\n",
       "<table border=\"1\" class=\"dataframe\">\n",
       "  <thead>\n",
       "    <tr style=\"text-align: right;\">\n",
       "      <th></th>\n",
       "      <th>Item_Identifier</th>\n",
       "      <th>Item_Weight</th>\n",
       "      <th>Item_Fat_Content</th>\n",
       "      <th>Item_Visibility</th>\n",
       "      <th>Item_Type</th>\n",
       "      <th>Item_MRP</th>\n",
       "      <th>Outlet_Identifier</th>\n",
       "      <th>Outlet_Establishment_Year</th>\n",
       "      <th>Outlet_Size</th>\n",
       "      <th>Outlet_Location_Type</th>\n",
       "      <th>Outlet_Type</th>\n",
       "      <th>Item_Outlet_Sales</th>\n",
       "    </tr>\n",
       "  </thead>\n",
       "  <tbody>\n",
       "    <tr>\n",
       "      <th>0</th>\n",
       "      <td>FDA15</td>\n",
       "      <td>9.30</td>\n",
       "      <td>Low Fat</td>\n",
       "      <td>0.016047</td>\n",
       "      <td>Dairy</td>\n",
       "      <td>249.8092</td>\n",
       "      <td>OUT049</td>\n",
       "      <td>1999</td>\n",
       "      <td>Medium</td>\n",
       "      <td>Tier 1</td>\n",
       "      <td>Supermarket Type1</td>\n",
       "      <td>3735.1380</td>\n",
       "    </tr>\n",
       "    <tr>\n",
       "      <th>1</th>\n",
       "      <td>DRC01</td>\n",
       "      <td>5.92</td>\n",
       "      <td>Regular</td>\n",
       "      <td>0.019278</td>\n",
       "      <td>Soft Drinks</td>\n",
       "      <td>48.2692</td>\n",
       "      <td>OUT018</td>\n",
       "      <td>2009</td>\n",
       "      <td>Medium</td>\n",
       "      <td>Tier 3</td>\n",
       "      <td>Supermarket Type2</td>\n",
       "      <td>443.4228</td>\n",
       "    </tr>\n",
       "    <tr>\n",
       "      <th>2</th>\n",
       "      <td>FDN15</td>\n",
       "      <td>17.50</td>\n",
       "      <td>Low Fat</td>\n",
       "      <td>0.016760</td>\n",
       "      <td>Meat</td>\n",
       "      <td>141.6180</td>\n",
       "      <td>OUT049</td>\n",
       "      <td>1999</td>\n",
       "      <td>Medium</td>\n",
       "      <td>Tier 1</td>\n",
       "      <td>Supermarket Type1</td>\n",
       "      <td>2097.2700</td>\n",
       "    </tr>\n",
       "    <tr>\n",
       "      <th>3</th>\n",
       "      <td>FDX07</td>\n",
       "      <td>19.20</td>\n",
       "      <td>Regular</td>\n",
       "      <td>0.000000</td>\n",
       "      <td>Fruits and Vegetables</td>\n",
       "      <td>182.0950</td>\n",
       "      <td>OUT010</td>\n",
       "      <td>1998</td>\n",
       "      <td>NaN</td>\n",
       "      <td>Tier 3</td>\n",
       "      <td>Grocery Store</td>\n",
       "      <td>732.3800</td>\n",
       "    </tr>\n",
       "    <tr>\n",
       "      <th>4</th>\n",
       "      <td>NCD19</td>\n",
       "      <td>8.93</td>\n",
       "      <td>Low Fat</td>\n",
       "      <td>0.000000</td>\n",
       "      <td>Household</td>\n",
       "      <td>53.8614</td>\n",
       "      <td>OUT013</td>\n",
       "      <td>1987</td>\n",
       "      <td>High</td>\n",
       "      <td>Tier 3</td>\n",
       "      <td>Supermarket Type1</td>\n",
       "      <td>994.7052</td>\n",
       "    </tr>\n",
       "  </tbody>\n",
       "</table>\n",
       "</div>"
      ],
      "text/plain": [
       "  Item_Identifier  Item_Weight Item_Fat_Content  Item_Visibility  \\\n",
       "0           FDA15         9.30          Low Fat         0.016047   \n",
       "1           DRC01         5.92          Regular         0.019278   \n",
       "2           FDN15        17.50          Low Fat         0.016760   \n",
       "3           FDX07        19.20          Regular         0.000000   \n",
       "4           NCD19         8.93          Low Fat         0.000000   \n",
       "\n",
       "               Item_Type  Item_MRP Outlet_Identifier  \\\n",
       "0                  Dairy  249.8092            OUT049   \n",
       "1            Soft Drinks   48.2692            OUT018   \n",
       "2                   Meat  141.6180            OUT049   \n",
       "3  Fruits and Vegetables  182.0950            OUT010   \n",
       "4              Household   53.8614            OUT013   \n",
       "\n",
       "   Outlet_Establishment_Year Outlet_Size Outlet_Location_Type  \\\n",
       "0                       1999      Medium               Tier 1   \n",
       "1                       2009      Medium               Tier 3   \n",
       "2                       1999      Medium               Tier 1   \n",
       "3                       1998         NaN               Tier 3   \n",
       "4                       1987        High               Tier 3   \n",
       "\n",
       "         Outlet_Type  Item_Outlet_Sales  \n",
       "0  Supermarket Type1          3735.1380  \n",
       "1  Supermarket Type2           443.4228  \n",
       "2  Supermarket Type1          2097.2700  \n",
       "3      Grocery Store           732.3800  \n",
       "4  Supermarket Type1           994.7052  "
      ]
     },
     "execution_count": 3,
     "metadata": {},
     "output_type": "execute_result"
    }
   ],
   "source": [
    "train.head()"
   ]
  },
  {
   "cell_type": "code",
   "execution_count": 4,
   "metadata": {
    "execution": {
     "iopub.execute_input": "2023-01-18T09:04:18.437694Z",
     "iopub.status.busy": "2023-01-18T09:04:18.436924Z",
     "iopub.status.idle": "2023-01-18T09:04:18.480991Z",
     "shell.execute_reply": "2023-01-18T09:04:18.480057Z",
     "shell.execute_reply.started": "2023-01-18T09:04:18.437645Z"
    }
   },
   "outputs": [
    {
     "data": {
      "text/html": [
       "<div>\n",
       "<style scoped>\n",
       "    .dataframe tbody tr th:only-of-type {\n",
       "        vertical-align: middle;\n",
       "    }\n",
       "\n",
       "    .dataframe tbody tr th {\n",
       "        vertical-align: top;\n",
       "    }\n",
       "\n",
       "    .dataframe thead th {\n",
       "        text-align: right;\n",
       "    }\n",
       "</style>\n",
       "<table border=\"1\" class=\"dataframe\">\n",
       "  <thead>\n",
       "    <tr style=\"text-align: right;\">\n",
       "      <th></th>\n",
       "      <th>Item_Weight</th>\n",
       "      <th>Item_Visibility</th>\n",
       "      <th>Item_MRP</th>\n",
       "      <th>Outlet_Establishment_Year</th>\n",
       "      <th>Item_Outlet_Sales</th>\n",
       "    </tr>\n",
       "  </thead>\n",
       "  <tbody>\n",
       "    <tr>\n",
       "      <th>count</th>\n",
       "      <td>7060.000000</td>\n",
       "      <td>8523.000000</td>\n",
       "      <td>8523.000000</td>\n",
       "      <td>8523.000000</td>\n",
       "      <td>8523.000000</td>\n",
       "    </tr>\n",
       "    <tr>\n",
       "      <th>mean</th>\n",
       "      <td>12.857645</td>\n",
       "      <td>0.066132</td>\n",
       "      <td>140.992782</td>\n",
       "      <td>1997.831867</td>\n",
       "      <td>2181.288914</td>\n",
       "    </tr>\n",
       "    <tr>\n",
       "      <th>std</th>\n",
       "      <td>4.643456</td>\n",
       "      <td>0.051598</td>\n",
       "      <td>62.275067</td>\n",
       "      <td>8.371760</td>\n",
       "      <td>1706.499616</td>\n",
       "    </tr>\n",
       "    <tr>\n",
       "      <th>min</th>\n",
       "      <td>4.555000</td>\n",
       "      <td>0.000000</td>\n",
       "      <td>31.290000</td>\n",
       "      <td>1985.000000</td>\n",
       "      <td>33.290000</td>\n",
       "    </tr>\n",
       "    <tr>\n",
       "      <th>25%</th>\n",
       "      <td>8.773750</td>\n",
       "      <td>0.026989</td>\n",
       "      <td>93.826500</td>\n",
       "      <td>1987.000000</td>\n",
       "      <td>834.247400</td>\n",
       "    </tr>\n",
       "    <tr>\n",
       "      <th>50%</th>\n",
       "      <td>12.600000</td>\n",
       "      <td>0.053931</td>\n",
       "      <td>143.012800</td>\n",
       "      <td>1999.000000</td>\n",
       "      <td>1794.331000</td>\n",
       "    </tr>\n",
       "    <tr>\n",
       "      <th>75%</th>\n",
       "      <td>16.850000</td>\n",
       "      <td>0.094585</td>\n",
       "      <td>185.643700</td>\n",
       "      <td>2004.000000</td>\n",
       "      <td>3101.296400</td>\n",
       "    </tr>\n",
       "    <tr>\n",
       "      <th>max</th>\n",
       "      <td>21.350000</td>\n",
       "      <td>0.328391</td>\n",
       "      <td>266.888400</td>\n",
       "      <td>2009.000000</td>\n",
       "      <td>13086.964800</td>\n",
       "    </tr>\n",
       "  </tbody>\n",
       "</table>\n",
       "</div>"
      ],
      "text/plain": [
       "       Item_Weight  Item_Visibility     Item_MRP  Outlet_Establishment_Year  \\\n",
       "count  7060.000000      8523.000000  8523.000000                8523.000000   \n",
       "mean     12.857645         0.066132   140.992782                1997.831867   \n",
       "std       4.643456         0.051598    62.275067                   8.371760   \n",
       "min       4.555000         0.000000    31.290000                1985.000000   \n",
       "25%       8.773750         0.026989    93.826500                1987.000000   \n",
       "50%      12.600000         0.053931   143.012800                1999.000000   \n",
       "75%      16.850000         0.094585   185.643700                2004.000000   \n",
       "max      21.350000         0.328391   266.888400                2009.000000   \n",
       "\n",
       "       Item_Outlet_Sales  \n",
       "count        8523.000000  \n",
       "mean         2181.288914  \n",
       "std          1706.499616  \n",
       "min            33.290000  \n",
       "25%           834.247400  \n",
       "50%          1794.331000  \n",
       "75%          3101.296400  \n",
       "max         13086.964800  "
      ]
     },
     "execution_count": 4,
     "metadata": {},
     "output_type": "execute_result"
    }
   ],
   "source": [
    "train.describe()"
   ]
  },
  {
   "cell_type": "code",
   "execution_count": 5,
   "metadata": {
    "execution": {
     "iopub.execute_input": "2023-01-18T09:04:18.486613Z",
     "iopub.status.busy": "2023-01-18T09:04:18.486278Z",
     "iopub.status.idle": "2023-01-18T09:04:18.530134Z",
     "shell.execute_reply": "2023-01-18T09:04:18.528690Z",
     "shell.execute_reply.started": "2023-01-18T09:04:18.486578Z"
    }
   },
   "outputs": [
    {
     "name": "stdout",
     "output_type": "stream",
     "text": [
      "<class 'pandas.core.frame.DataFrame'>\n",
      "RangeIndex: 8523 entries, 0 to 8522\n",
      "Data columns (total 12 columns):\n",
      " #   Column                     Non-Null Count  Dtype  \n",
      "---  ------                     --------------  -----  \n",
      " 0   Item_Identifier            8523 non-null   object \n",
      " 1   Item_Weight                7060 non-null   float64\n",
      " 2   Item_Fat_Content           8523 non-null   object \n",
      " 3   Item_Visibility            8523 non-null   float64\n",
      " 4   Item_Type                  8523 non-null   object \n",
      " 5   Item_MRP                   8523 non-null   float64\n",
      " 6   Outlet_Identifier          8523 non-null   object \n",
      " 7   Outlet_Establishment_Year  8523 non-null   int64  \n",
      " 8   Outlet_Size                6113 non-null   object \n",
      " 9   Outlet_Location_Type       8523 non-null   object \n",
      " 10  Outlet_Type                8523 non-null   object \n",
      " 11  Item_Outlet_Sales          8523 non-null   float64\n",
      "dtypes: float64(4), int64(1), object(7)\n",
      "memory usage: 799.2+ KB\n"
     ]
    }
   ],
   "source": [
    "train.info()"
   ]
  },
  {
   "cell_type": "markdown",
   "metadata": {},
   "source": [
    "<b>From train.info(), it is clear that the Item_Weight and Outlet_Size have NaN values (Null values). \n",
    "Also, we can see that the dataset has 5 Numerical features(Item_Weight, Item_Visibility, Item_MRP, Outlet_Establishment_Year and Item_Outlet_Sales) and 7 Categorical features(Item_Identifier, Item_Fat_Content, Item_Type, Outlet_Identifier, Outlet_Size, Outlet_Location_Type and Outlet_Type).</b>"
   ]
  },
  {
   "cell_type": "markdown",
   "metadata": {},
   "source": [
    "# STEP 1: Data Pre- Processing\n",
    "\n",
    "# a) Finding the Missing Value Features"
   ]
  },
  {
   "cell_type": "code",
   "execution_count": 6,
   "metadata": {
    "execution": {
     "iopub.execute_input": "2023-01-18T09:04:18.534980Z",
     "iopub.status.busy": "2023-01-18T09:04:18.534550Z",
     "iopub.status.idle": "2023-01-18T09:04:18.560602Z",
     "shell.execute_reply": "2023-01-18T09:04:18.559586Z",
     "shell.execute_reply.started": "2023-01-18T09:04:18.534921Z"
    }
   },
   "outputs": [
    {
     "name": "stdout",
     "output_type": "stream",
     "text": [
      "Train dataset shape: (8523, 13)\n",
      "Test dataset shape: (5681, 12)\n",
      "Concatenated dataset shape: (14204, 13)\n"
     ]
    }
   ],
   "source": [
    "# Join both the train and test dataset\n",
    "train['source']='train'\n",
    "test['source']='test'\n",
    "\n",
    "dataset = pd.concat([train,test], ignore_index = True)\n",
    "print(\"Train dataset shape:\",train.shape)\n",
    "print(\"Test dataset shape:\",test.shape)\n",
    "print(\"Concatenated dataset shape:\",dataset.shape)"
   ]
  },
  {
   "cell_type": "code",
   "execution_count": 7,
   "metadata": {
    "execution": {
     "iopub.execute_input": "2023-01-18T09:04:18.562684Z",
     "iopub.status.busy": "2023-01-18T09:04:18.562060Z",
     "iopub.status.idle": "2023-01-18T09:04:18.611916Z",
     "shell.execute_reply": "2023-01-18T09:04:18.610638Z",
     "shell.execute_reply.started": "2023-01-18T09:04:18.562635Z"
    }
   },
   "outputs": [
    {
     "name": "stdout",
     "output_type": "stream",
     "text": [
      "<class 'pandas.core.frame.DataFrame'>\n",
      "RangeIndex: 14204 entries, 0 to 14203\n",
      "Data columns (total 13 columns):\n",
      " #   Column                     Non-Null Count  Dtype  \n",
      "---  ------                     --------------  -----  \n",
      " 0   Item_Identifier            14204 non-null  object \n",
      " 1   Item_Weight                11765 non-null  float64\n",
      " 2   Item_Fat_Content           14204 non-null  object \n",
      " 3   Item_Visibility            14204 non-null  float64\n",
      " 4   Item_Type                  14204 non-null  object \n",
      " 5   Item_MRP                   14204 non-null  float64\n",
      " 6   Outlet_Identifier          14204 non-null  object \n",
      " 7   Outlet_Establishment_Year  14204 non-null  int64  \n",
      " 8   Outlet_Size                10188 non-null  object \n",
      " 9   Outlet_Location_Type       14204 non-null  object \n",
      " 10  Outlet_Type                14204 non-null  object \n",
      " 11  Item_Outlet_Sales          8523 non-null   float64\n",
      " 12  source                     14204 non-null  object \n",
      "dtypes: float64(4), int64(1), object(8)\n",
      "memory usage: 1.4+ MB\n"
     ]
    }
   ],
   "source": [
    "dataset.info()"
   ]
  },
  {
   "cell_type": "code",
   "execution_count": 8,
   "metadata": {
    "execution": {
     "iopub.execute_input": "2023-01-18T09:04:18.614043Z",
     "iopub.status.busy": "2023-01-18T09:04:18.613391Z",
     "iopub.status.idle": "2023-01-18T09:04:18.637665Z",
     "shell.execute_reply": "2023-01-18T09:04:18.636427Z",
     "shell.execute_reply.started": "2023-01-18T09:04:18.613992Z"
    }
   },
   "outputs": [
    {
     "data": {
      "text/html": [
       "<div>\n",
       "<style scoped>\n",
       "    .dataframe tbody tr th:only-of-type {\n",
       "        vertical-align: middle;\n",
       "    }\n",
       "\n",
       "    .dataframe tbody tr th {\n",
       "        vertical-align: top;\n",
       "    }\n",
       "\n",
       "    .dataframe thead th {\n",
       "        text-align: right;\n",
       "    }\n",
       "</style>\n",
       "<table border=\"1\" class=\"dataframe\">\n",
       "  <thead>\n",
       "    <tr style=\"text-align: right;\">\n",
       "      <th></th>\n",
       "      <th>Item_Identifier</th>\n",
       "      <th>Item_Weight</th>\n",
       "      <th>Item_Fat_Content</th>\n",
       "      <th>Item_Visibility</th>\n",
       "      <th>Item_Type</th>\n",
       "      <th>Item_MRP</th>\n",
       "      <th>Outlet_Identifier</th>\n",
       "      <th>Outlet_Establishment_Year</th>\n",
       "      <th>Outlet_Size</th>\n",
       "      <th>Outlet_Location_Type</th>\n",
       "      <th>Outlet_Type</th>\n",
       "      <th>Item_Outlet_Sales</th>\n",
       "      <th>source</th>\n",
       "    </tr>\n",
       "  </thead>\n",
       "  <tbody>\n",
       "    <tr>\n",
       "      <th>0</th>\n",
       "      <td>FDA15</td>\n",
       "      <td>9.30</td>\n",
       "      <td>Low Fat</td>\n",
       "      <td>0.016047</td>\n",
       "      <td>Dairy</td>\n",
       "      <td>249.8092</td>\n",
       "      <td>OUT049</td>\n",
       "      <td>1999</td>\n",
       "      <td>Medium</td>\n",
       "      <td>Tier 1</td>\n",
       "      <td>Supermarket Type1</td>\n",
       "      <td>3735.1380</td>\n",
       "      <td>train</td>\n",
       "    </tr>\n",
       "    <tr>\n",
       "      <th>1</th>\n",
       "      <td>DRC01</td>\n",
       "      <td>5.92</td>\n",
       "      <td>Regular</td>\n",
       "      <td>0.019278</td>\n",
       "      <td>Soft Drinks</td>\n",
       "      <td>48.2692</td>\n",
       "      <td>OUT018</td>\n",
       "      <td>2009</td>\n",
       "      <td>Medium</td>\n",
       "      <td>Tier 3</td>\n",
       "      <td>Supermarket Type2</td>\n",
       "      <td>443.4228</td>\n",
       "      <td>train</td>\n",
       "    </tr>\n",
       "    <tr>\n",
       "      <th>2</th>\n",
       "      <td>FDN15</td>\n",
       "      <td>17.50</td>\n",
       "      <td>Low Fat</td>\n",
       "      <td>0.016760</td>\n",
       "      <td>Meat</td>\n",
       "      <td>141.6180</td>\n",
       "      <td>OUT049</td>\n",
       "      <td>1999</td>\n",
       "      <td>Medium</td>\n",
       "      <td>Tier 1</td>\n",
       "      <td>Supermarket Type1</td>\n",
       "      <td>2097.2700</td>\n",
       "      <td>train</td>\n",
       "    </tr>\n",
       "    <tr>\n",
       "      <th>3</th>\n",
       "      <td>FDX07</td>\n",
       "      <td>19.20</td>\n",
       "      <td>Regular</td>\n",
       "      <td>0.000000</td>\n",
       "      <td>Fruits and Vegetables</td>\n",
       "      <td>182.0950</td>\n",
       "      <td>OUT010</td>\n",
       "      <td>1998</td>\n",
       "      <td>NaN</td>\n",
       "      <td>Tier 3</td>\n",
       "      <td>Grocery Store</td>\n",
       "      <td>732.3800</td>\n",
       "      <td>train</td>\n",
       "    </tr>\n",
       "    <tr>\n",
       "      <th>4</th>\n",
       "      <td>NCD19</td>\n",
       "      <td>8.93</td>\n",
       "      <td>Low Fat</td>\n",
       "      <td>0.000000</td>\n",
       "      <td>Household</td>\n",
       "      <td>53.8614</td>\n",
       "      <td>OUT013</td>\n",
       "      <td>1987</td>\n",
       "      <td>High</td>\n",
       "      <td>Tier 3</td>\n",
       "      <td>Supermarket Type1</td>\n",
       "      <td>994.7052</td>\n",
       "      <td>train</td>\n",
       "    </tr>\n",
       "  </tbody>\n",
       "</table>\n",
       "</div>"
      ],
      "text/plain": [
       "  Item_Identifier  Item_Weight Item_Fat_Content  Item_Visibility  \\\n",
       "0           FDA15         9.30          Low Fat         0.016047   \n",
       "1           DRC01         5.92          Regular         0.019278   \n",
       "2           FDN15        17.50          Low Fat         0.016760   \n",
       "3           FDX07        19.20          Regular         0.000000   \n",
       "4           NCD19         8.93          Low Fat         0.000000   \n",
       "\n",
       "               Item_Type  Item_MRP Outlet_Identifier  \\\n",
       "0                  Dairy  249.8092            OUT049   \n",
       "1            Soft Drinks   48.2692            OUT018   \n",
       "2                   Meat  141.6180            OUT049   \n",
       "3  Fruits and Vegetables  182.0950            OUT010   \n",
       "4              Household   53.8614            OUT013   \n",
       "\n",
       "   Outlet_Establishment_Year Outlet_Size Outlet_Location_Type  \\\n",
       "0                       1999      Medium               Tier 1   \n",
       "1                       2009      Medium               Tier 3   \n",
       "2                       1999      Medium               Tier 1   \n",
       "3                       1998         NaN               Tier 3   \n",
       "4                       1987        High               Tier 3   \n",
       "\n",
       "         Outlet_Type  Item_Outlet_Sales source  \n",
       "0  Supermarket Type1          3735.1380  train  \n",
       "1  Supermarket Type2           443.4228  train  \n",
       "2  Supermarket Type1          2097.2700  train  \n",
       "3      Grocery Store           732.3800  train  \n",
       "4  Supermarket Type1           994.7052  train  "
      ]
     },
     "execution_count": 8,
     "metadata": {},
     "output_type": "execute_result"
    }
   ],
   "source": [
    "dataset.head()"
   ]
  },
  {
   "cell_type": "code",
   "execution_count": 9,
   "metadata": {
    "execution": {
     "iopub.execute_input": "2023-01-18T09:04:18.639858Z",
     "iopub.status.busy": "2023-01-18T09:04:18.639209Z",
     "iopub.status.idle": "2023-01-18T09:04:18.658060Z",
     "shell.execute_reply": "2023-01-18T09:04:18.656688Z",
     "shell.execute_reply.started": "2023-01-18T09:04:18.639781Z"
    }
   },
   "outputs": [
    {
     "data": {
      "text/plain": [
       "Item_Identifier                 0\n",
       "Item_Weight                  2439\n",
       "Item_Fat_Content                0\n",
       "Item_Visibility                 0\n",
       "Item_Type                       0\n",
       "Item_MRP                        0\n",
       "Outlet_Identifier               0\n",
       "Outlet_Establishment_Year       0\n",
       "Outlet_Size                  4016\n",
       "Outlet_Location_Type            0\n",
       "Outlet_Type                     0\n",
       "Item_Outlet_Sales            5681\n",
       "source                          0\n",
       "dtype: int64"
      ]
     },
     "execution_count": 9,
     "metadata": {},
     "output_type": "execute_result"
    }
   ],
   "source": [
    "dataset.isnull().sum()"
   ]
  },
  {
   "cell_type": "markdown",
   "metadata": {},
   "source": [
    "<b>Now, in this concatenated dataset we have 3 features with missing NaN values. Rows from 8524 to 14204 (Test dataset) have NaN values in the 'Item_Outlet_Sales' column. This is our Target Variable. </b> "
   ]
  },
  {
   "cell_type": "code",
   "execution_count": 10,
   "metadata": {
    "execution": {
     "iopub.execute_input": "2023-01-18T09:04:18.660369Z",
     "iopub.status.busy": "2023-01-18T09:04:18.659928Z",
     "iopub.status.idle": "2023-01-18T09:04:18.669400Z",
     "shell.execute_reply": "2023-01-18T09:04:18.667985Z",
     "shell.execute_reply.started": "2023-01-18T09:04:18.660322Z"
    }
   },
   "outputs": [
    {
     "name": "stdout",
     "output_type": "stream",
     "text": [
      "39.995775837792166 %\n"
     ]
    }
   ],
   "source": [
    "#To find percentage of test set in the dataset\n",
    "print(dataset[\"Item_Outlet_Sales\"].isnull().sum()/dataset.shape[0]*100,\"%\")"
   ]
  },
  {
   "cell_type": "markdown",
   "metadata": {},
   "source": [
    "# b) replacing missing data with substituted values\n",
    "<b>Out of the 3 features with missing NaN values, the missing values in 'Item_Outlet_Sales' are the Values that need to be predicted by our model. Hence, we need to impute the NaN values in the Item_Weight and Outlet_Size columns.\n",
    "Item_Weight missing values can be replaced by their mean and \n",
    "Outlet_Size missing values can be replaces by their mode</b>"
   ]
  },
  {
   "cell_type": "code",
   "execution_count": 11,
   "metadata": {
    "execution": {
     "iopub.execute_input": "2023-01-18T09:04:18.672179Z",
     "iopub.status.busy": "2023-01-18T09:04:18.671316Z",
     "iopub.status.idle": "2023-01-18T09:04:18.749005Z",
     "shell.execute_reply": "2023-01-18T09:04:18.747723Z",
     "shell.execute_reply.started": "2023-01-18T09:04:18.672126Z"
    }
   },
   "outputs": [
    {
     "data": {
      "text/html": [
       "<div>\n",
       "<style scoped>\n",
       "    .dataframe tbody tr th:only-of-type {\n",
       "        vertical-align: middle;\n",
       "    }\n",
       "\n",
       "    .dataframe tbody tr th {\n",
       "        vertical-align: top;\n",
       "    }\n",
       "\n",
       "    .dataframe thead th {\n",
       "        text-align: right;\n",
       "    }\n",
       "</style>\n",
       "<table border=\"1\" class=\"dataframe\">\n",
       "  <thead>\n",
       "    <tr style=\"text-align: right;\">\n",
       "      <th></th>\n",
       "      <th>Item_Weight</th>\n",
       "    </tr>\n",
       "    <tr>\n",
       "      <th>Item_Identifier</th>\n",
       "      <th></th>\n",
       "    </tr>\n",
       "  </thead>\n",
       "  <tbody>\n",
       "    <tr>\n",
       "      <th>DRA12</th>\n",
       "      <td>11.600</td>\n",
       "    </tr>\n",
       "    <tr>\n",
       "      <th>DRA24</th>\n",
       "      <td>19.350</td>\n",
       "    </tr>\n",
       "    <tr>\n",
       "      <th>DRA59</th>\n",
       "      <td>8.270</td>\n",
       "    </tr>\n",
       "    <tr>\n",
       "      <th>DRB01</th>\n",
       "      <td>7.390</td>\n",
       "    </tr>\n",
       "    <tr>\n",
       "      <th>DRB13</th>\n",
       "      <td>6.115</td>\n",
       "    </tr>\n",
       "    <tr>\n",
       "      <th>...</th>\n",
       "      <td>...</td>\n",
       "    </tr>\n",
       "    <tr>\n",
       "      <th>NCZ30</th>\n",
       "      <td>6.590</td>\n",
       "    </tr>\n",
       "    <tr>\n",
       "      <th>NCZ41</th>\n",
       "      <td>19.850</td>\n",
       "    </tr>\n",
       "    <tr>\n",
       "      <th>NCZ42</th>\n",
       "      <td>10.500</td>\n",
       "    </tr>\n",
       "    <tr>\n",
       "      <th>NCZ53</th>\n",
       "      <td>9.600</td>\n",
       "    </tr>\n",
       "    <tr>\n",
       "      <th>NCZ54</th>\n",
       "      <td>14.650</td>\n",
       "    </tr>\n",
       "  </tbody>\n",
       "</table>\n",
       "<p>1559 rows × 1 columns</p>\n",
       "</div>"
      ],
      "text/plain": [
       "                 Item_Weight\n",
       "Item_Identifier             \n",
       "DRA12                 11.600\n",
       "DRA24                 19.350\n",
       "DRA59                  8.270\n",
       "DRB01                  7.390\n",
       "DRB13                  6.115\n",
       "...                      ...\n",
       "NCZ30                  6.590\n",
       "NCZ41                 19.850\n",
       "NCZ42                 10.500\n",
       "NCZ53                  9.600\n",
       "NCZ54                 14.650\n",
       "\n",
       "[1559 rows x 1 columns]"
      ]
     },
     "execution_count": 11,
     "metadata": {},
     "output_type": "execute_result"
    }
   ],
   "source": [
    "# pivot_table() allows us to create a table that contains the mean values of identifiers\n",
    "avg = pd.pivot_table(dataset,values='Item_Weight', index='Item_Identifier',aggfunc='mean')\n",
    "avg"
   ]
  },
  {
   "cell_type": "code",
   "execution_count": 12,
   "metadata": {
    "execution": {
     "iopub.execute_input": "2023-01-18T09:04:18.750879Z",
     "iopub.status.busy": "2023-01-18T09:04:18.750475Z",
     "iopub.status.idle": "2023-01-18T09:04:18.788676Z",
     "shell.execute_reply": "2023-01-18T09:04:18.787376Z",
     "shell.execute_reply.started": "2023-01-18T09:04:18.750816Z"
    }
   },
   "outputs": [
    {
     "data": {
      "text/html": [
       "<div>\n",
       "<style scoped>\n",
       "    .dataframe tbody tr th:only-of-type {\n",
       "        vertical-align: middle;\n",
       "    }\n",
       "\n",
       "    .dataframe tbody tr th {\n",
       "        vertical-align: top;\n",
       "    }\n",
       "\n",
       "    .dataframe thead th {\n",
       "        text-align: right;\n",
       "    }\n",
       "</style>\n",
       "<table border=\"1\" class=\"dataframe\">\n",
       "  <thead>\n",
       "    <tr style=\"text-align: right;\">\n",
       "      <th></th>\n",
       "      <th>Item_Identifier</th>\n",
       "      <th>Item_Weight</th>\n",
       "      <th>Item_Fat_Content</th>\n",
       "      <th>Item_Visibility</th>\n",
       "      <th>Item_Type</th>\n",
       "      <th>Item_MRP</th>\n",
       "      <th>Outlet_Identifier</th>\n",
       "      <th>Outlet_Establishment_Year</th>\n",
       "      <th>Outlet_Size</th>\n",
       "      <th>Outlet_Location_Type</th>\n",
       "      <th>Outlet_Type</th>\n",
       "      <th>Item_Outlet_Sales</th>\n",
       "      <th>source</th>\n",
       "    </tr>\n",
       "  </thead>\n",
       "  <tbody>\n",
       "    <tr>\n",
       "      <th>118</th>\n",
       "      <td>DRA12</td>\n",
       "      <td>11.6</td>\n",
       "      <td>Low Fat</td>\n",
       "      <td>0.041178</td>\n",
       "      <td>Soft Drinks</td>\n",
       "      <td>140.3154</td>\n",
       "      <td>OUT017</td>\n",
       "      <td>2007</td>\n",
       "      <td>NaN</td>\n",
       "      <td>Tier 2</td>\n",
       "      <td>Supermarket Type1</td>\n",
       "      <td>2552.6772</td>\n",
       "      <td>train</td>\n",
       "    </tr>\n",
       "    <tr>\n",
       "      <th>1197</th>\n",
       "      <td>DRA12</td>\n",
       "      <td>11.6</td>\n",
       "      <td>Low Fat</td>\n",
       "      <td>0.000000</td>\n",
       "      <td>Soft Drinks</td>\n",
       "      <td>141.6154</td>\n",
       "      <td>OUT045</td>\n",
       "      <td>2002</td>\n",
       "      <td>NaN</td>\n",
       "      <td>Tier 2</td>\n",
       "      <td>Supermarket Type1</td>\n",
       "      <td>3829.0158</td>\n",
       "      <td>train</td>\n",
       "    </tr>\n",
       "    <tr>\n",
       "      <th>1245</th>\n",
       "      <td>DRA12</td>\n",
       "      <td>11.6</td>\n",
       "      <td>Low Fat</td>\n",
       "      <td>0.040912</td>\n",
       "      <td>Soft Drinks</td>\n",
       "      <td>142.3154</td>\n",
       "      <td>OUT013</td>\n",
       "      <td>1987</td>\n",
       "      <td>High</td>\n",
       "      <td>Tier 3</td>\n",
       "      <td>Supermarket Type1</td>\n",
       "      <td>2552.6772</td>\n",
       "      <td>train</td>\n",
       "    </tr>\n",
       "    <tr>\n",
       "      <th>1693</th>\n",
       "      <td>DRA12</td>\n",
       "      <td>11.6</td>\n",
       "      <td>LF</td>\n",
       "      <td>0.000000</td>\n",
       "      <td>Soft Drinks</td>\n",
       "      <td>141.9154</td>\n",
       "      <td>OUT035</td>\n",
       "      <td>2004</td>\n",
       "      <td>Small</td>\n",
       "      <td>Tier 2</td>\n",
       "      <td>Supermarket Type1</td>\n",
       "      <td>992.7078</td>\n",
       "      <td>train</td>\n",
       "    </tr>\n",
       "    <tr>\n",
       "      <th>7467</th>\n",
       "      <td>DRA12</td>\n",
       "      <td>11.6</td>\n",
       "      <td>Low Fat</td>\n",
       "      <td>0.041113</td>\n",
       "      <td>Soft Drinks</td>\n",
       "      <td>142.0154</td>\n",
       "      <td>OUT018</td>\n",
       "      <td>2009</td>\n",
       "      <td>Medium</td>\n",
       "      <td>Tier 3</td>\n",
       "      <td>Supermarket Type2</td>\n",
       "      <td>850.8924</td>\n",
       "      <td>train</td>\n",
       "    </tr>\n",
       "    <tr>\n",
       "      <th>8043</th>\n",
       "      <td>DRA12</td>\n",
       "      <td>11.6</td>\n",
       "      <td>Low Fat</td>\n",
       "      <td>0.068535</td>\n",
       "      <td>Soft Drinks</td>\n",
       "      <td>143.0154</td>\n",
       "      <td>OUT010</td>\n",
       "      <td>1998</td>\n",
       "      <td>NaN</td>\n",
       "      <td>Tier 3</td>\n",
       "      <td>Grocery Store</td>\n",
       "      <td>283.6308</td>\n",
       "      <td>train</td>\n",
       "    </tr>\n",
       "    <tr>\n",
       "      <th>9023</th>\n",
       "      <td>DRA12</td>\n",
       "      <td>11.6</td>\n",
       "      <td>Low Fat</td>\n",
       "      <td>0.040946</td>\n",
       "      <td>Soft Drinks</td>\n",
       "      <td>142.9154</td>\n",
       "      <td>OUT046</td>\n",
       "      <td>1997</td>\n",
       "      <td>Small</td>\n",
       "      <td>Tier 1</td>\n",
       "      <td>Supermarket Type1</td>\n",
       "      <td>NaN</td>\n",
       "      <td>test</td>\n",
       "    </tr>\n",
       "    <tr>\n",
       "      <th>12435</th>\n",
       "      <td>DRA12</td>\n",
       "      <td>NaN</td>\n",
       "      <td>Low Fat</td>\n",
       "      <td>0.040748</td>\n",
       "      <td>Soft Drinks</td>\n",
       "      <td>140.0154</td>\n",
       "      <td>OUT027</td>\n",
       "      <td>1985</td>\n",
       "      <td>Medium</td>\n",
       "      <td>Tier 3</td>\n",
       "      <td>Supermarket Type3</td>\n",
       "      <td>NaN</td>\n",
       "      <td>test</td>\n",
       "    </tr>\n",
       "    <tr>\n",
       "      <th>13604</th>\n",
       "      <td>DRA12</td>\n",
       "      <td>11.6</td>\n",
       "      <td>LF</td>\n",
       "      <td>0.041010</td>\n",
       "      <td>Soft Drinks</td>\n",
       "      <td>141.0154</td>\n",
       "      <td>OUT049</td>\n",
       "      <td>1999</td>\n",
       "      <td>Medium</td>\n",
       "      <td>Tier 1</td>\n",
       "      <td>Supermarket Type1</td>\n",
       "      <td>NaN</td>\n",
       "      <td>test</td>\n",
       "    </tr>\n",
       "  </tbody>\n",
       "</table>\n",
       "</div>"
      ],
      "text/plain": [
       "      Item_Identifier  Item_Weight Item_Fat_Content  Item_Visibility  \\\n",
       "118             DRA12         11.6          Low Fat         0.041178   \n",
       "1197            DRA12         11.6          Low Fat         0.000000   \n",
       "1245            DRA12         11.6          Low Fat         0.040912   \n",
       "1693            DRA12         11.6               LF         0.000000   \n",
       "7467            DRA12         11.6          Low Fat         0.041113   \n",
       "8043            DRA12         11.6          Low Fat         0.068535   \n",
       "9023            DRA12         11.6          Low Fat         0.040946   \n",
       "12435           DRA12          NaN          Low Fat         0.040748   \n",
       "13604           DRA12         11.6               LF         0.041010   \n",
       "\n",
       "         Item_Type  Item_MRP Outlet_Identifier  Outlet_Establishment_Year  \\\n",
       "118    Soft Drinks  140.3154            OUT017                       2007   \n",
       "1197   Soft Drinks  141.6154            OUT045                       2002   \n",
       "1245   Soft Drinks  142.3154            OUT013                       1987   \n",
       "1693   Soft Drinks  141.9154            OUT035                       2004   \n",
       "7467   Soft Drinks  142.0154            OUT018                       2009   \n",
       "8043   Soft Drinks  143.0154            OUT010                       1998   \n",
       "9023   Soft Drinks  142.9154            OUT046                       1997   \n",
       "12435  Soft Drinks  140.0154            OUT027                       1985   \n",
       "13604  Soft Drinks  141.0154            OUT049                       1999   \n",
       "\n",
       "      Outlet_Size Outlet_Location_Type        Outlet_Type  Item_Outlet_Sales  \\\n",
       "118           NaN               Tier 2  Supermarket Type1          2552.6772   \n",
       "1197          NaN               Tier 2  Supermarket Type1          3829.0158   \n",
       "1245         High               Tier 3  Supermarket Type1          2552.6772   \n",
       "1693        Small               Tier 2  Supermarket Type1           992.7078   \n",
       "7467       Medium               Tier 3  Supermarket Type2           850.8924   \n",
       "8043          NaN               Tier 3      Grocery Store           283.6308   \n",
       "9023        Small               Tier 1  Supermarket Type1                NaN   \n",
       "12435      Medium               Tier 3  Supermarket Type3                NaN   \n",
       "13604      Medium               Tier 1  Supermarket Type1                NaN   \n",
       "\n",
       "      source  \n",
       "118    train  \n",
       "1197   train  \n",
       "1245   train  \n",
       "1693   train  \n",
       "7467   train  \n",
       "8043   train  \n",
       "9023    test  \n",
       "12435   test  \n",
       "13604   test  "
      ]
     },
     "execution_count": 12,
     "metadata": {},
     "output_type": "execute_result"
    }
   ],
   "source": [
    "# We find that all examples containing the same Item_Identifier value have same Item_Weight.\n",
    "# This proves the fact that the mean is same as their value.\n",
    "# For example the mean value for the value \"DRA12\" in the Item_Identifier is same as the Item_Weight for \n",
    "# individual examples in the Item_Weight column.\n",
    "\n",
    "df=dataset[dataset['Item_Identifier'].str.contains(\"DRA12\")]\n",
    "df"
   ]
  },
  {
   "cell_type": "code",
   "execution_count": 13,
   "metadata": {
    "execution": {
     "iopub.execute_input": "2023-01-18T09:04:18.791859Z",
     "iopub.status.busy": "2023-01-18T09:04:18.791026Z",
     "iopub.status.idle": "2023-01-18T09:04:19.788228Z",
     "shell.execute_reply": "2023-01-18T09:04:19.787292Z",
     "shell.execute_reply.started": "2023-01-18T09:04:18.791780Z"
    }
   },
   "outputs": [
    {
     "name": "stdout",
     "output_type": "stream",
     "text": [
      "Orignal Number of missing values in Item_Weight: 2439\n",
      "Number of missing values in Item_Weight after imputation:  0\n"
     ]
    }
   ],
   "source": [
    "dataset[:][dataset['Item_Identifier'] == 'DRI11']\n",
    "def impute(cols):\n",
    "    Weight = cols[1]\n",
    "    Identifier = cols[0]\n",
    "    \n",
    "    if pd.isnull(Weight):\n",
    "        return avg['Item_Weight'][avg.index == Identifier]\n",
    "    else:\n",
    "        return Weight\n",
    "print ('Orignal Number of missing values in Item_Weight:',sum(dataset['Item_Weight'].isnull()))\n",
    "\n",
    "# Applying the impute() function to impute null values of Item_Weight\n",
    "dataset['Item_Weight'] = dataset[['Item_Identifier','Item_Weight']].apply(impute,axis=1).astype(float)\n",
    "\n",
    "print ('Number of missing values in Item_Weight after imputation: ',sum(dataset['Item_Weight'].isnull()))"
   ]
  },
  {
   "cell_type": "code",
   "execution_count": 14,
   "metadata": {
    "execution": {
     "iopub.execute_input": "2023-01-18T09:04:19.791590Z",
     "iopub.status.busy": "2023-01-18T09:04:19.790928Z",
     "iopub.status.idle": "2023-01-18T09:04:19.808974Z",
     "shell.execute_reply": "2023-01-18T09:04:19.800931Z",
     "shell.execute_reply.started": "2023-01-18T09:04:19.791539Z"
    }
   },
   "outputs": [
    {
     "data": {
      "text/plain": [
       "array(['Supermarket Type1', 'Supermarket Type2', 'Grocery Store',\n",
       "       'Supermarket Type3'], dtype=object)"
      ]
     },
     "execution_count": 14,
     "metadata": {},
     "output_type": "execute_result"
    }
   ],
   "source": [
    "# Finding unique Outlet Types\n",
    "dataset.Outlet_Type.unique()"
   ]
  },
  {
   "cell_type": "code",
   "execution_count": 15,
   "metadata": {
    "execution": {
     "iopub.execute_input": "2023-01-18T09:04:19.812419Z",
     "iopub.status.busy": "2023-01-18T09:04:19.811394Z",
     "iopub.status.idle": "2023-01-18T09:04:19.845756Z",
     "shell.execute_reply": "2023-01-18T09:04:19.844370Z",
     "shell.execute_reply.started": "2023-01-18T09:04:19.812359Z"
    }
   },
   "outputs": [
    {
     "data": {
      "text/html": [
       "<div>\n",
       "<style scoped>\n",
       "    .dataframe tbody tr th:only-of-type {\n",
       "        vertical-align: middle;\n",
       "    }\n",
       "\n",
       "    .dataframe tbody tr th {\n",
       "        vertical-align: top;\n",
       "    }\n",
       "\n",
       "    .dataframe thead th {\n",
       "        text-align: right;\n",
       "    }\n",
       "</style>\n",
       "<table border=\"1\" class=\"dataframe\">\n",
       "  <thead>\n",
       "    <tr style=\"text-align: right;\">\n",
       "      <th>Outlet_Type</th>\n",
       "      <th>Grocery Store</th>\n",
       "      <th>Supermarket Type1</th>\n",
       "      <th>Supermarket Type2</th>\n",
       "      <th>Supermarket Type3</th>\n",
       "    </tr>\n",
       "  </thead>\n",
       "  <tbody>\n",
       "    <tr>\n",
       "      <th>Outlet_Size</th>\n",
       "      <td>Small</td>\n",
       "      <td>Small</td>\n",
       "      <td>Medium</td>\n",
       "      <td>Medium</td>\n",
       "    </tr>\n",
       "  </tbody>\n",
       "</table>\n",
       "</div>"
      ],
      "text/plain": [
       "Outlet_Type Grocery Store Supermarket Type1 Supermarket Type2  \\\n",
       "Outlet_Size         Small             Small            Medium   \n",
       "\n",
       "Outlet_Type Supermarket Type3  \n",
       "Outlet_Size            Medium  "
      ]
     },
     "execution_count": 15,
     "metadata": {},
     "output_type": "execute_result"
    }
   ],
   "source": [
    "# pivot_table() allows us to create a table that contains the mode of identifiers\n",
    "mode = pd.pivot_table(dataset, values='Outlet_Size', columns='Outlet_Type',aggfunc=lambda x:x.mode())\n",
    "mode"
   ]
  },
  {
   "cell_type": "code",
   "execution_count": 16,
   "metadata": {
    "execution": {
     "iopub.execute_input": "2023-01-18T09:04:19.847866Z",
     "iopub.status.busy": "2023-01-18T09:04:19.847435Z",
     "iopub.status.idle": "2023-01-18T09:04:20.963590Z",
     "shell.execute_reply": "2023-01-18T09:04:20.962233Z",
     "shell.execute_reply.started": "2023-01-18T09:04:19.847804Z"
    }
   },
   "outputs": [
    {
     "name": "stdout",
     "output_type": "stream",
     "text": [
      "Orignal Number of missing values in Outlet_Size: 4016\n",
      "Number of missing values in Outlet_Size after imputation:  0\n"
     ]
    }
   ],
   "source": [
    "# Imputing Outlet_Size missing values with their mode\n",
    "def impute_mode(cols):\n",
    "    size = cols[1]\n",
    "    Type = cols[0]\n",
    "    \n",
    "    if pd.isnull(size):\n",
    "        return mode.loc['Outlet_Size'][mode.columns == Type][0]\n",
    "    else:\n",
    "        return size\n",
    "print ('Orignal Number of missing values in Outlet_Size:',sum(dataset['Outlet_Size'].isnull()))\n",
    "\n",
    "# Applying the impute() function to impute null values of Item_Weight\n",
    "dataset['Outlet_Size'] = dataset[['Outlet_Type','Outlet_Size']].apply(impute_mode,axis=1)\n",
    "\n",
    "print ('Number of missing values in Outlet_Size after imputation: ',sum(dataset['Outlet_Size'].isnull()))"
   ]
  },
  {
   "cell_type": "code",
   "execution_count": 17,
   "metadata": {
    "execution": {
     "iopub.execute_input": "2023-01-18T09:04:20.965761Z",
     "iopub.status.busy": "2023-01-18T09:04:20.965309Z",
     "iopub.status.idle": "2023-01-18T09:04:20.983062Z",
     "shell.execute_reply": "2023-01-18T09:04:20.981932Z",
     "shell.execute_reply.started": "2023-01-18T09:04:20.965715Z"
    }
   },
   "outputs": [
    {
     "data": {
      "text/plain": [
       "Item_Identifier                 0\n",
       "Item_Weight                     0\n",
       "Item_Fat_Content                0\n",
       "Item_Visibility                 0\n",
       "Item_Type                       0\n",
       "Item_MRP                        0\n",
       "Outlet_Identifier               0\n",
       "Outlet_Establishment_Year       0\n",
       "Outlet_Size                     0\n",
       "Outlet_Location_Type            0\n",
       "Outlet_Type                     0\n",
       "Item_Outlet_Sales            5681\n",
       "source                          0\n",
       "dtype: int64"
      ]
     },
     "execution_count": 17,
     "metadata": {},
     "output_type": "execute_result"
    }
   ],
   "source": [
    "dataset.isnull().sum()"
   ]
  },
  {
   "cell_type": "code",
   "execution_count": 18,
   "metadata": {
    "execution": {
     "iopub.execute_input": "2023-01-18T09:04:20.985458Z",
     "iopub.status.busy": "2023-01-18T09:04:20.984874Z",
     "iopub.status.idle": "2023-01-18T09:04:21.029241Z",
     "shell.execute_reply": "2023-01-18T09:04:21.027939Z",
     "shell.execute_reply.started": "2023-01-18T09:04:20.985408Z"
    }
   },
   "outputs": [
    {
     "data": {
      "text/html": [
       "<div>\n",
       "<style scoped>\n",
       "    .dataframe tbody tr th:only-of-type {\n",
       "        vertical-align: middle;\n",
       "    }\n",
       "\n",
       "    .dataframe tbody tr th {\n",
       "        vertical-align: top;\n",
       "    }\n",
       "\n",
       "    .dataframe thead th {\n",
       "        text-align: right;\n",
       "    }\n",
       "</style>\n",
       "<table border=\"1\" class=\"dataframe\">\n",
       "  <thead>\n",
       "    <tr style=\"text-align: right;\">\n",
       "      <th></th>\n",
       "      <th>Item_Identifier</th>\n",
       "      <th>Item_Weight</th>\n",
       "      <th>Item_Fat_Content</th>\n",
       "      <th>Item_Visibility</th>\n",
       "      <th>Item_Type</th>\n",
       "      <th>Item_MRP</th>\n",
       "      <th>Outlet_Identifier</th>\n",
       "      <th>Outlet_Establishment_Year</th>\n",
       "      <th>Outlet_Size</th>\n",
       "      <th>Outlet_Location_Type</th>\n",
       "      <th>Outlet_Type</th>\n",
       "      <th>Item_Outlet_Sales</th>\n",
       "      <th>source</th>\n",
       "    </tr>\n",
       "  </thead>\n",
       "  <tbody>\n",
       "    <tr>\n",
       "      <th>0</th>\n",
       "      <td>FDA15</td>\n",
       "      <td>9.30</td>\n",
       "      <td>Low Fat</td>\n",
       "      <td>0.016047</td>\n",
       "      <td>Dairy</td>\n",
       "      <td>249.8092</td>\n",
       "      <td>OUT049</td>\n",
       "      <td>1999</td>\n",
       "      <td>Medium</td>\n",
       "      <td>Tier 1</td>\n",
       "      <td>Supermarket Type1</td>\n",
       "      <td>3735.1380</td>\n",
       "      <td>train</td>\n",
       "    </tr>\n",
       "    <tr>\n",
       "      <th>1</th>\n",
       "      <td>DRC01</td>\n",
       "      <td>5.92</td>\n",
       "      <td>Regular</td>\n",
       "      <td>0.019278</td>\n",
       "      <td>Soft Drinks</td>\n",
       "      <td>48.2692</td>\n",
       "      <td>OUT018</td>\n",
       "      <td>2009</td>\n",
       "      <td>Medium</td>\n",
       "      <td>Tier 3</td>\n",
       "      <td>Supermarket Type2</td>\n",
       "      <td>443.4228</td>\n",
       "      <td>train</td>\n",
       "    </tr>\n",
       "    <tr>\n",
       "      <th>2</th>\n",
       "      <td>FDN15</td>\n",
       "      <td>17.50</td>\n",
       "      <td>Low Fat</td>\n",
       "      <td>0.016760</td>\n",
       "      <td>Meat</td>\n",
       "      <td>141.6180</td>\n",
       "      <td>OUT049</td>\n",
       "      <td>1999</td>\n",
       "      <td>Medium</td>\n",
       "      <td>Tier 1</td>\n",
       "      <td>Supermarket Type1</td>\n",
       "      <td>2097.2700</td>\n",
       "      <td>train</td>\n",
       "    </tr>\n",
       "    <tr>\n",
       "      <th>3</th>\n",
       "      <td>FDX07</td>\n",
       "      <td>19.20</td>\n",
       "      <td>Regular</td>\n",
       "      <td>0.000000</td>\n",
       "      <td>Fruits and Vegetables</td>\n",
       "      <td>182.0950</td>\n",
       "      <td>OUT010</td>\n",
       "      <td>1998</td>\n",
       "      <td>Small</td>\n",
       "      <td>Tier 3</td>\n",
       "      <td>Grocery Store</td>\n",
       "      <td>732.3800</td>\n",
       "      <td>train</td>\n",
       "    </tr>\n",
       "    <tr>\n",
       "      <th>4</th>\n",
       "      <td>NCD19</td>\n",
       "      <td>8.93</td>\n",
       "      <td>Low Fat</td>\n",
       "      <td>0.000000</td>\n",
       "      <td>Household</td>\n",
       "      <td>53.8614</td>\n",
       "      <td>OUT013</td>\n",
       "      <td>1987</td>\n",
       "      <td>High</td>\n",
       "      <td>Tier 3</td>\n",
       "      <td>Supermarket Type1</td>\n",
       "      <td>994.7052</td>\n",
       "      <td>train</td>\n",
       "    </tr>\n",
       "  </tbody>\n",
       "</table>\n",
       "</div>"
      ],
      "text/plain": [
       "  Item_Identifier  Item_Weight Item_Fat_Content  Item_Visibility  \\\n",
       "0           FDA15         9.30          Low Fat         0.016047   \n",
       "1           DRC01         5.92          Regular         0.019278   \n",
       "2           FDN15        17.50          Low Fat         0.016760   \n",
       "3           FDX07        19.20          Regular         0.000000   \n",
       "4           NCD19         8.93          Low Fat         0.000000   \n",
       "\n",
       "               Item_Type  Item_MRP Outlet_Identifier  \\\n",
       "0                  Dairy  249.8092            OUT049   \n",
       "1            Soft Drinks   48.2692            OUT018   \n",
       "2                   Meat  141.6180            OUT049   \n",
       "3  Fruits and Vegetables  182.0950            OUT010   \n",
       "4              Household   53.8614            OUT013   \n",
       "\n",
       "   Outlet_Establishment_Year Outlet_Size Outlet_Location_Type  \\\n",
       "0                       1999      Medium               Tier 1   \n",
       "1                       2009      Medium               Tier 3   \n",
       "2                       1999      Medium               Tier 1   \n",
       "3                       1998       Small               Tier 3   \n",
       "4                       1987        High               Tier 3   \n",
       "\n",
       "         Outlet_Type  Item_Outlet_Sales source  \n",
       "0  Supermarket Type1          3735.1380  train  \n",
       "1  Supermarket Type2           443.4228  train  \n",
       "2  Supermarket Type1          2097.2700  train  \n",
       "3      Grocery Store           732.3800  train  \n",
       "4  Supermarket Type1           994.7052  train  "
      ]
     },
     "execution_count": 18,
     "metadata": {},
     "output_type": "execute_result"
    }
   ],
   "source": [
    "dataset.head()"
   ]
  },
  {
   "cell_type": "markdown",
   "metadata": {},
   "source": [
    "# c) Modifying the features in a more intuitive manner"
   ]
  },
  {
   "cell_type": "code",
   "execution_count": 19,
   "metadata": {
    "execution": {
     "iopub.execute_input": "2023-01-18T09:04:21.033133Z",
     "iopub.status.busy": "2023-01-18T09:04:21.032615Z",
     "iopub.status.idle": "2023-01-18T09:04:21.043738Z",
     "shell.execute_reply": "2023-01-18T09:04:21.041692Z",
     "shell.execute_reply.started": "2023-01-18T09:04:21.033081Z"
    }
   },
   "outputs": [
    {
     "data": {
      "text/plain": [
       "array(['Low Fat', 'Regular', 'low fat', 'LF', 'reg'], dtype=object)"
      ]
     },
     "execution_count": 19,
     "metadata": {},
     "output_type": "execute_result"
    }
   ],
   "source": [
    "dataset.Item_Fat_Content.unique()"
   ]
  },
  {
   "cell_type": "markdown",
   "metadata": {},
   "source": [
    "<b>Here, there are typos line case sensitive words and short cuts. The actual unique values must be [\"Low Fat\", \"Regular\"]. This modification has to be done before applying the model.</b>"
   ]
  },
  {
   "cell_type": "code",
   "execution_count": 20,
   "metadata": {
    "execution": {
     "iopub.execute_input": "2023-01-18T09:04:21.047325Z",
     "iopub.status.busy": "2023-01-18T09:04:21.046500Z",
     "iopub.status.idle": "2023-01-18T09:04:21.061296Z",
     "shell.execute_reply": "2023-01-18T09:04:21.060103Z",
     "shell.execute_reply.started": "2023-01-18T09:04:21.047277Z"
    }
   },
   "outputs": [
    {
     "data": {
      "text/plain": [
       "array(['Low Fat', 'Regular'], dtype=object)"
      ]
     },
     "execution_count": 20,
     "metadata": {},
     "output_type": "execute_result"
    }
   ],
   "source": [
    "dataset['Item_Fat_Content'] = dataset['Item_Fat_Content'].replace({'low fat':'Low Fat','reg':'Regular','LF':'Low Fat'})\n",
    "dataset.Item_Fat_Content.unique()"
   ]
  },
  {
   "cell_type": "markdown",
   "metadata": {},
   "source": [
    "<b>Also, the Outlet_Establishment_Year contains year in which the outlet was established. If we can get information on how many years the outlet has been working, then taht data would be more useful.</b>"
   ]
  },
  {
   "cell_type": "code",
   "execution_count": 21,
   "metadata": {
    "execution": {
     "iopub.execute_input": "2023-01-18T09:04:21.063347Z",
     "iopub.status.busy": "2023-01-18T09:04:21.062717Z",
     "iopub.status.idle": "2023-01-18T09:04:21.079938Z",
     "shell.execute_reply": "2023-01-18T09:04:21.078624Z",
     "shell.execute_reply.started": "2023-01-18T09:04:21.063299Z"
    }
   },
   "outputs": [
    {
     "data": {
      "text/plain": [
       "array([21, 11, 22, 33, 35, 18, 13, 23, 16])"
      ]
     },
     "execution_count": 21,
     "metadata": {},
     "output_type": "execute_result"
    }
   ],
   "source": [
    "dataset['Outlet_Year'] = 2020 - dataset['Outlet_Establishment_Year']\n",
    "dataset.drop(['Outlet_Establishment_Year'],axis=1,inplace=True)\n",
    "dataset.Outlet_Year.unique()"
   ]
  },
  {
   "cell_type": "code",
   "execution_count": 22,
   "metadata": {
    "execution": {
     "iopub.execute_input": "2023-01-18T09:04:21.109987Z",
     "iopub.status.busy": "2023-01-18T09:04:21.109283Z",
     "iopub.status.idle": "2023-01-18T09:04:21.763230Z",
     "shell.execute_reply": "2023-01-18T09:04:21.761958Z",
     "shell.execute_reply.started": "2023-01-18T09:04:21.109934Z"
    },
    "scrolled": true
   },
   "outputs": [
    {
     "data": {
      "text/html": [
       "<div>\n",
       "<style scoped>\n",
       "    .dataframe tbody tr th:only-of-type {\n",
       "        vertical-align: middle;\n",
       "    }\n",
       "\n",
       "    .dataframe tbody tr th {\n",
       "        vertical-align: top;\n",
       "    }\n",
       "\n",
       "    .dataframe thead th {\n",
       "        text-align: right;\n",
       "    }\n",
       "</style>\n",
       "<table border=\"1\" class=\"dataframe\">\n",
       "  <thead>\n",
       "    <tr style=\"text-align: right;\">\n",
       "      <th></th>\n",
       "      <th>Item_Identifier</th>\n",
       "      <th>Item_Weight</th>\n",
       "      <th>Item_Fat_Content</th>\n",
       "      <th>Item_Visibility</th>\n",
       "      <th>Item_Type</th>\n",
       "      <th>Item_MRP</th>\n",
       "      <th>Outlet_Identifier</th>\n",
       "      <th>Outlet_Size</th>\n",
       "      <th>Outlet_Location_Type</th>\n",
       "      <th>Outlet_Type</th>\n",
       "      <th>Item_Outlet_Sales</th>\n",
       "      <th>source</th>\n",
       "      <th>Outlet_Year</th>\n",
       "    </tr>\n",
       "  </thead>\n",
       "  <tbody>\n",
       "    <tr>\n",
       "      <th>0</th>\n",
       "      <td>FDA15</td>\n",
       "      <td>9.30</td>\n",
       "      <td>Low Fat</td>\n",
       "      <td>0.016047</td>\n",
       "      <td>Dairy</td>\n",
       "      <td>249.8092</td>\n",
       "      <td>OUT049</td>\n",
       "      <td>Medium</td>\n",
       "      <td>Tier 1</td>\n",
       "      <td>Supermarket Type1</td>\n",
       "      <td>3735.1380</td>\n",
       "      <td>train</td>\n",
       "      <td>21</td>\n",
       "    </tr>\n",
       "    <tr>\n",
       "      <th>1</th>\n",
       "      <td>DRC01</td>\n",
       "      <td>5.92</td>\n",
       "      <td>Regular</td>\n",
       "      <td>0.019278</td>\n",
       "      <td>Soft Drinks</td>\n",
       "      <td>48.2692</td>\n",
       "      <td>OUT018</td>\n",
       "      <td>Medium</td>\n",
       "      <td>Tier 3</td>\n",
       "      <td>Supermarket Type2</td>\n",
       "      <td>443.4228</td>\n",
       "      <td>train</td>\n",
       "      <td>11</td>\n",
       "    </tr>\n",
       "    <tr>\n",
       "      <th>2</th>\n",
       "      <td>FDN15</td>\n",
       "      <td>17.50</td>\n",
       "      <td>Low Fat</td>\n",
       "      <td>0.016760</td>\n",
       "      <td>Meat</td>\n",
       "      <td>141.6180</td>\n",
       "      <td>OUT049</td>\n",
       "      <td>Medium</td>\n",
       "      <td>Tier 1</td>\n",
       "      <td>Supermarket Type1</td>\n",
       "      <td>2097.2700</td>\n",
       "      <td>train</td>\n",
       "      <td>21</td>\n",
       "    </tr>\n",
       "    <tr>\n",
       "      <th>3</th>\n",
       "      <td>FDX07</td>\n",
       "      <td>19.20</td>\n",
       "      <td>Regular</td>\n",
       "      <td>0.000000</td>\n",
       "      <td>Fruits and Vegetables</td>\n",
       "      <td>182.0950</td>\n",
       "      <td>OUT010</td>\n",
       "      <td>Small</td>\n",
       "      <td>Tier 3</td>\n",
       "      <td>Grocery Store</td>\n",
       "      <td>732.3800</td>\n",
       "      <td>train</td>\n",
       "      <td>22</td>\n",
       "    </tr>\n",
       "    <tr>\n",
       "      <th>4</th>\n",
       "      <td>NCD19</td>\n",
       "      <td>8.93</td>\n",
       "      <td>Low Fat</td>\n",
       "      <td>0.000000</td>\n",
       "      <td>Household</td>\n",
       "      <td>53.8614</td>\n",
       "      <td>OUT013</td>\n",
       "      <td>High</td>\n",
       "      <td>Tier 3</td>\n",
       "      <td>Supermarket Type1</td>\n",
       "      <td>994.7052</td>\n",
       "      <td>train</td>\n",
       "      <td>33</td>\n",
       "    </tr>\n",
       "  </tbody>\n",
       "</table>\n",
       "</div>"
      ],
      "text/plain": [
       "  Item_Identifier  Item_Weight Item_Fat_Content  Item_Visibility  \\\n",
       "0           FDA15         9.30          Low Fat         0.016047   \n",
       "1           DRC01         5.92          Regular         0.019278   \n",
       "2           FDN15        17.50          Low Fat         0.016760   \n",
       "3           FDX07        19.20          Regular         0.000000   \n",
       "4           NCD19         8.93          Low Fat         0.000000   \n",
       "\n",
       "               Item_Type  Item_MRP Outlet_Identifier Outlet_Size  \\\n",
       "0                  Dairy  249.8092            OUT049      Medium   \n",
       "1            Soft Drinks   48.2692            OUT018      Medium   \n",
       "2                   Meat  141.6180            OUT049      Medium   \n",
       "3  Fruits and Vegetables  182.0950            OUT010       Small   \n",
       "4              Household   53.8614            OUT013        High   \n",
       "\n",
       "  Outlet_Location_Type        Outlet_Type  Item_Outlet_Sales source  \\\n",
       "0               Tier 1  Supermarket Type1          3735.1380  train   \n",
       "1               Tier 3  Supermarket Type2           443.4228  train   \n",
       "2               Tier 1  Supermarket Type1          2097.2700  train   \n",
       "3               Tier 3      Grocery Store           732.3800  train   \n",
       "4               Tier 3  Supermarket Type1           994.7052  train   \n",
       "\n",
       "   Outlet_Year  \n",
       "0           21  \n",
       "1           11  \n",
       "2           21  \n",
       "3           22  \n",
       "4           33  "
      ]
     },
     "execution_count": 22,
     "metadata": {},
     "output_type": "execute_result"
    }
   ],
   "source": [
    "dataset.to_csv('insight.csv')\n",
    "dataset.head()"
   ]
  },
  {
   "cell_type": "code",
   "execution_count": 23,
   "metadata": {
    "execution": {
     "iopub.execute_input": "2023-01-18T09:04:21.765408Z",
     "iopub.status.busy": "2023-01-18T09:04:21.764748Z",
     "iopub.status.idle": "2023-01-18T09:04:21.783174Z",
     "shell.execute_reply": "2023-01-18T09:04:21.782143Z",
     "shell.execute_reply.started": "2023-01-18T09:04:21.765359Z"
    }
   },
   "outputs": [],
   "source": [
    "vmean = dataset.pivot_table(index = \"Item_Identifier\",  values = \"Item_Visibility\")"
   ]
  },
  {
   "cell_type": "code",
   "execution_count": 24,
   "metadata": {
    "execution": {
     "iopub.execute_input": "2023-01-18T09:04:21.787574Z",
     "iopub.status.busy": "2023-01-18T09:04:21.787239Z",
     "iopub.status.idle": "2023-01-18T09:04:21.817714Z",
     "shell.execute_reply": "2023-01-18T09:04:21.816936Z",
     "shell.execute_reply.started": "2023-01-18T09:04:21.787539Z"
    }
   },
   "outputs": [],
   "source": [
    "dataset.loc[(dataset[\"Item_Visibility\"] == 0.0), \"Item_Visibility\"] = dataset.loc[(dataset[\"Item_Visibility\"] == 0.0), \"Item_Identifier\"].apply(lambda x : vmean.at[x, \"Item_Visibility\"])"
   ]
  },
  {
   "cell_type": "markdown",
   "metadata": {},
   "source": [
    "# STEP 3:Converting the categorical data into numerical data appropriately\n",
    "<b> scikit-learn only accepts numerical variables. Hence, we need to convert all categorical variables into numeric types.</b>"
   ]
  },
  {
   "cell_type": "code",
   "execution_count": 25,
   "metadata": {
    "execution": {
     "iopub.execute_input": "2023-01-18T09:04:21.820080Z",
     "iopub.status.busy": "2023-01-18T09:04:21.819377Z",
     "iopub.status.idle": "2023-01-18T09:04:21.868557Z",
     "shell.execute_reply": "2023-01-18T09:04:21.867232Z",
     "shell.execute_reply.started": "2023-01-18T09:04:21.820031Z"
    }
   },
   "outputs": [],
   "source": [
    "# Turning all categorical variables into numerical values can be done by mapping each categorical value with  \n",
    "# respective FREQUENCY of the values in the column\n",
    "\n",
    "cat_var = ['Item_Fat_Content','Outlet_Location_Type','Outlet_Size','Outlet_Type','Item_Type','Item_Identifier','Outlet_Identifier']\n",
    "for i in cat_var:\n",
    "    p  = dataset[i].value_counts().to_dict()\n",
    "    dataset[i] = dataset[i].map(p)"
   ]
  },
  {
   "cell_type": "code",
   "execution_count": 26,
   "metadata": {
    "execution": {
     "iopub.execute_input": "2023-01-18T09:04:21.873123Z",
     "iopub.status.busy": "2023-01-18T09:04:21.872734Z",
     "iopub.status.idle": "2023-01-18T09:04:21.894877Z",
     "shell.execute_reply": "2023-01-18T09:04:21.893634Z",
     "shell.execute_reply.started": "2023-01-18T09:04:21.873083Z"
    }
   },
   "outputs": [
    {
     "data": {
      "text/html": [
       "<div>\n",
       "<style scoped>\n",
       "    .dataframe tbody tr th:only-of-type {\n",
       "        vertical-align: middle;\n",
       "    }\n",
       "\n",
       "    .dataframe tbody tr th {\n",
       "        vertical-align: top;\n",
       "    }\n",
       "\n",
       "    .dataframe thead th {\n",
       "        text-align: right;\n",
       "    }\n",
       "</style>\n",
       "<table border=\"1\" class=\"dataframe\">\n",
       "  <thead>\n",
       "    <tr style=\"text-align: right;\">\n",
       "      <th></th>\n",
       "      <th>Item_Identifier</th>\n",
       "      <th>Item_Weight</th>\n",
       "      <th>Item_Fat_Content</th>\n",
       "      <th>Item_Visibility</th>\n",
       "      <th>Item_Type</th>\n",
       "      <th>Item_MRP</th>\n",
       "      <th>Outlet_Identifier</th>\n",
       "      <th>Outlet_Size</th>\n",
       "      <th>Outlet_Location_Type</th>\n",
       "      <th>Outlet_Type</th>\n",
       "      <th>Item_Outlet_Sales</th>\n",
       "      <th>source</th>\n",
       "      <th>Outlet_Year</th>\n",
       "    </tr>\n",
       "  </thead>\n",
       "  <tbody>\n",
       "    <tr>\n",
       "      <th>0</th>\n",
       "      <td>9</td>\n",
       "      <td>9.30</td>\n",
       "      <td>9185</td>\n",
       "      <td>0.016047</td>\n",
       "      <td>1136</td>\n",
       "      <td>249.8092</td>\n",
       "      <td>1550</td>\n",
       "      <td>4655</td>\n",
       "      <td>3980</td>\n",
       "      <td>9294</td>\n",
       "      <td>3735.1380</td>\n",
       "      <td>train</td>\n",
       "      <td>21</td>\n",
       "    </tr>\n",
       "    <tr>\n",
       "      <th>1</th>\n",
       "      <td>9</td>\n",
       "      <td>5.92</td>\n",
       "      <td>5019</td>\n",
       "      <td>0.019278</td>\n",
       "      <td>726</td>\n",
       "      <td>48.2692</td>\n",
       "      <td>1546</td>\n",
       "      <td>4655</td>\n",
       "      <td>5583</td>\n",
       "      <td>1546</td>\n",
       "      <td>443.4228</td>\n",
       "      <td>train</td>\n",
       "      <td>11</td>\n",
       "    </tr>\n",
       "    <tr>\n",
       "      <th>2</th>\n",
       "      <td>10</td>\n",
       "      <td>17.50</td>\n",
       "      <td>9185</td>\n",
       "      <td>0.016760</td>\n",
       "      <td>736</td>\n",
       "      <td>141.6180</td>\n",
       "      <td>1550</td>\n",
       "      <td>4655</td>\n",
       "      <td>3980</td>\n",
       "      <td>9294</td>\n",
       "      <td>2097.2700</td>\n",
       "      <td>train</td>\n",
       "      <td>21</td>\n",
       "    </tr>\n",
       "    <tr>\n",
       "      <th>3</th>\n",
       "      <td>9</td>\n",
       "      <td>19.20</td>\n",
       "      <td>5019</td>\n",
       "      <td>0.017834</td>\n",
       "      <td>2013</td>\n",
       "      <td>182.0950</td>\n",
       "      <td>925</td>\n",
       "      <td>7996</td>\n",
       "      <td>5583</td>\n",
       "      <td>1805</td>\n",
       "      <td>732.3800</td>\n",
       "      <td>train</td>\n",
       "      <td>22</td>\n",
       "    </tr>\n",
       "    <tr>\n",
       "      <th>4</th>\n",
       "      <td>9</td>\n",
       "      <td>8.93</td>\n",
       "      <td>9185</td>\n",
       "      <td>0.009780</td>\n",
       "      <td>1548</td>\n",
       "      <td>53.8614</td>\n",
       "      <td>1553</td>\n",
       "      <td>1553</td>\n",
       "      <td>5583</td>\n",
       "      <td>9294</td>\n",
       "      <td>994.7052</td>\n",
       "      <td>train</td>\n",
       "      <td>33</td>\n",
       "    </tr>\n",
       "  </tbody>\n",
       "</table>\n",
       "</div>"
      ],
      "text/plain": [
       "   Item_Identifier  Item_Weight  Item_Fat_Content  Item_Visibility  Item_Type  \\\n",
       "0                9         9.30              9185         0.016047       1136   \n",
       "1                9         5.92              5019         0.019278        726   \n",
       "2               10        17.50              9185         0.016760        736   \n",
       "3                9        19.20              5019         0.017834       2013   \n",
       "4                9         8.93              9185         0.009780       1548   \n",
       "\n",
       "   Item_MRP  Outlet_Identifier  Outlet_Size  Outlet_Location_Type  \\\n",
       "0  249.8092               1550         4655                  3980   \n",
       "1   48.2692               1546         4655                  5583   \n",
       "2  141.6180               1550         4655                  3980   \n",
       "3  182.0950                925         7996                  5583   \n",
       "4   53.8614               1553         1553                  5583   \n",
       "\n",
       "   Outlet_Type  Item_Outlet_Sales source  Outlet_Year  \n",
       "0         9294          3735.1380  train           21  \n",
       "1         1546           443.4228  train           11  \n",
       "2         9294          2097.2700  train           21  \n",
       "3         1805           732.3800  train           22  \n",
       "4         9294           994.7052  train           33  "
      ]
     },
     "execution_count": 26,
     "metadata": {},
     "output_type": "execute_result"
    }
   ],
   "source": [
    "dataset.head()"
   ]
  },
  {
   "cell_type": "markdown",
   "metadata": {},
   "source": [
    "# STEP 4: Finding Significant Predictor Variables"
   ]
  },
  {
   "cell_type": "code",
   "execution_count": 27,
   "metadata": {
    "execution": {
     "iopub.execute_input": "2023-01-18T09:04:21.896732Z",
     "iopub.status.busy": "2023-01-18T09:04:21.896373Z",
     "iopub.status.idle": "2023-01-18T09:04:21.933181Z",
     "shell.execute_reply": "2023-01-18T09:04:21.932002Z",
     "shell.execute_reply.started": "2023-01-18T09:04:21.896697Z"
    }
   },
   "outputs": [
    {
     "name": "stderr",
     "output_type": "stream",
     "text": [
      "/opt/conda/lib/python3.7/site-packages/pandas/core/frame.py:4167: SettingWithCopyWarning: \n",
      "A value is trying to be set on a copy of a slice from a DataFrame\n",
      "\n",
      "See the caveats in the documentation: https://pandas.pydata.org/pandas-docs/stable/user_guide/indexing.html#returning-a-view-versus-a-copy\n",
      "  errors=errors,\n"
     ]
    }
   ],
   "source": [
    "#Divide into test and train:\n",
    "train = dataset.loc[dataset['source']==\"train\"]\n",
    "test = dataset.loc[dataset['source']==\"test\"]\n",
    "#Drop unnecessary columns:\n",
    "test.drop(['source'],axis=1,inplace=True)\n",
    "train.drop(['source'],axis=1,inplace=True)"
   ]
  },
  {
   "cell_type": "code",
   "execution_count": 28,
   "metadata": {
    "execution": {
     "iopub.execute_input": "2023-01-18T09:04:21.935586Z",
     "iopub.status.busy": "2023-01-18T09:04:21.934913Z",
     "iopub.status.idle": "2023-01-18T09:04:21.954182Z",
     "shell.execute_reply": "2023-01-18T09:04:21.952849Z",
     "shell.execute_reply.started": "2023-01-18T09:04:21.935537Z"
    }
   },
   "outputs": [
    {
     "data": {
      "text/html": [
       "<div>\n",
       "<style scoped>\n",
       "    .dataframe tbody tr th:only-of-type {\n",
       "        vertical-align: middle;\n",
       "    }\n",
       "\n",
       "    .dataframe tbody tr th {\n",
       "        vertical-align: top;\n",
       "    }\n",
       "\n",
       "    .dataframe thead th {\n",
       "        text-align: right;\n",
       "    }\n",
       "</style>\n",
       "<table border=\"1\" class=\"dataframe\">\n",
       "  <thead>\n",
       "    <tr style=\"text-align: right;\">\n",
       "      <th></th>\n",
       "      <th>Item_Identifier</th>\n",
       "      <th>Item_Weight</th>\n",
       "      <th>Item_Fat_Content</th>\n",
       "      <th>Item_Visibility</th>\n",
       "      <th>Item_Type</th>\n",
       "      <th>Item_MRP</th>\n",
       "      <th>Outlet_Identifier</th>\n",
       "      <th>Outlet_Size</th>\n",
       "      <th>Outlet_Location_Type</th>\n",
       "      <th>Outlet_Type</th>\n",
       "      <th>Item_Outlet_Sales</th>\n",
       "      <th>Outlet_Year</th>\n",
       "    </tr>\n",
       "  </thead>\n",
       "  <tbody>\n",
       "    <tr>\n",
       "      <th>0</th>\n",
       "      <td>9</td>\n",
       "      <td>9.30</td>\n",
       "      <td>9185</td>\n",
       "      <td>0.016047</td>\n",
       "      <td>1136</td>\n",
       "      <td>249.8092</td>\n",
       "      <td>1550</td>\n",
       "      <td>4655</td>\n",
       "      <td>3980</td>\n",
       "      <td>9294</td>\n",
       "      <td>3735.1380</td>\n",
       "      <td>21</td>\n",
       "    </tr>\n",
       "    <tr>\n",
       "      <th>1</th>\n",
       "      <td>9</td>\n",
       "      <td>5.92</td>\n",
       "      <td>5019</td>\n",
       "      <td>0.019278</td>\n",
       "      <td>726</td>\n",
       "      <td>48.2692</td>\n",
       "      <td>1546</td>\n",
       "      <td>4655</td>\n",
       "      <td>5583</td>\n",
       "      <td>1546</td>\n",
       "      <td>443.4228</td>\n",
       "      <td>11</td>\n",
       "    </tr>\n",
       "    <tr>\n",
       "      <th>2</th>\n",
       "      <td>10</td>\n",
       "      <td>17.50</td>\n",
       "      <td>9185</td>\n",
       "      <td>0.016760</td>\n",
       "      <td>736</td>\n",
       "      <td>141.6180</td>\n",
       "      <td>1550</td>\n",
       "      <td>4655</td>\n",
       "      <td>3980</td>\n",
       "      <td>9294</td>\n",
       "      <td>2097.2700</td>\n",
       "      <td>21</td>\n",
       "    </tr>\n",
       "    <tr>\n",
       "      <th>3</th>\n",
       "      <td>9</td>\n",
       "      <td>19.20</td>\n",
       "      <td>5019</td>\n",
       "      <td>0.017834</td>\n",
       "      <td>2013</td>\n",
       "      <td>182.0950</td>\n",
       "      <td>925</td>\n",
       "      <td>7996</td>\n",
       "      <td>5583</td>\n",
       "      <td>1805</td>\n",
       "      <td>732.3800</td>\n",
       "      <td>22</td>\n",
       "    </tr>\n",
       "    <tr>\n",
       "      <th>4</th>\n",
       "      <td>9</td>\n",
       "      <td>8.93</td>\n",
       "      <td>9185</td>\n",
       "      <td>0.009780</td>\n",
       "      <td>1548</td>\n",
       "      <td>53.8614</td>\n",
       "      <td>1553</td>\n",
       "      <td>1553</td>\n",
       "      <td>5583</td>\n",
       "      <td>9294</td>\n",
       "      <td>994.7052</td>\n",
       "      <td>33</td>\n",
       "    </tr>\n",
       "  </tbody>\n",
       "</table>\n",
       "</div>"
      ],
      "text/plain": [
       "   Item_Identifier  Item_Weight  Item_Fat_Content  Item_Visibility  Item_Type  \\\n",
       "0                9         9.30              9185         0.016047       1136   \n",
       "1                9         5.92              5019         0.019278        726   \n",
       "2               10        17.50              9185         0.016760        736   \n",
       "3                9        19.20              5019         0.017834       2013   \n",
       "4                9         8.93              9185         0.009780       1548   \n",
       "\n",
       "   Item_MRP  Outlet_Identifier  Outlet_Size  Outlet_Location_Type  \\\n",
       "0  249.8092               1550         4655                  3980   \n",
       "1   48.2692               1546         4655                  5583   \n",
       "2  141.6180               1550         4655                  3980   \n",
       "3  182.0950                925         7996                  5583   \n",
       "4   53.8614               1553         1553                  5583   \n",
       "\n",
       "   Outlet_Type  Item_Outlet_Sales  Outlet_Year  \n",
       "0         9294          3735.1380           21  \n",
       "1         1546           443.4228           11  \n",
       "2         9294          2097.2700           21  \n",
       "3         1805           732.3800           22  \n",
       "4         9294           994.7052           33  "
      ]
     },
     "execution_count": 28,
     "metadata": {},
     "output_type": "execute_result"
    }
   ],
   "source": [
    "train.head()"
   ]
  },
  {
   "cell_type": "code",
   "execution_count": 29,
   "metadata": {
    "execution": {
     "iopub.execute_input": "2023-01-18T09:04:21.957033Z",
     "iopub.status.busy": "2023-01-18T09:04:21.956469Z",
     "iopub.status.idle": "2023-01-18T09:04:21.978577Z",
     "shell.execute_reply": "2023-01-18T09:04:21.977602Z",
     "shell.execute_reply.started": "2023-01-18T09:04:21.956984Z"
    }
   },
   "outputs": [
    {
     "data": {
      "text/html": [
       "<div>\n",
       "<style scoped>\n",
       "    .dataframe tbody tr th:only-of-type {\n",
       "        vertical-align: middle;\n",
       "    }\n",
       "\n",
       "    .dataframe tbody tr th {\n",
       "        vertical-align: top;\n",
       "    }\n",
       "\n",
       "    .dataframe thead th {\n",
       "        text-align: right;\n",
       "    }\n",
       "</style>\n",
       "<table border=\"1\" class=\"dataframe\">\n",
       "  <thead>\n",
       "    <tr style=\"text-align: right;\">\n",
       "      <th></th>\n",
       "      <th>Item_Identifier</th>\n",
       "      <th>Item_Weight</th>\n",
       "      <th>Item_Fat_Content</th>\n",
       "      <th>Item_Visibility</th>\n",
       "      <th>Item_Type</th>\n",
       "      <th>Item_MRP</th>\n",
       "      <th>Outlet_Identifier</th>\n",
       "      <th>Outlet_Size</th>\n",
       "      <th>Outlet_Location_Type</th>\n",
       "      <th>Outlet_Type</th>\n",
       "      <th>Item_Outlet_Sales</th>\n",
       "      <th>Outlet_Year</th>\n",
       "    </tr>\n",
       "  </thead>\n",
       "  <tbody>\n",
       "    <tr>\n",
       "      <th>8523</th>\n",
       "      <td>9</td>\n",
       "      <td>20.750</td>\n",
       "      <td>9185</td>\n",
       "      <td>0.007565</td>\n",
       "      <td>1989</td>\n",
       "      <td>107.8622</td>\n",
       "      <td>1550</td>\n",
       "      <td>4655</td>\n",
       "      <td>3980</td>\n",
       "      <td>9294</td>\n",
       "      <td>NaN</td>\n",
       "      <td>21</td>\n",
       "    </tr>\n",
       "    <tr>\n",
       "      <th>8524</th>\n",
       "      <td>9</td>\n",
       "      <td>8.300</td>\n",
       "      <td>5019</td>\n",
       "      <td>0.038428</td>\n",
       "      <td>1136</td>\n",
       "      <td>87.3198</td>\n",
       "      <td>1543</td>\n",
       "      <td>7996</td>\n",
       "      <td>4641</td>\n",
       "      <td>9294</td>\n",
       "      <td>NaN</td>\n",
       "      <td>13</td>\n",
       "    </tr>\n",
       "    <tr>\n",
       "      <th>8525</th>\n",
       "      <td>9</td>\n",
       "      <td>14.600</td>\n",
       "      <td>9185</td>\n",
       "      <td>0.099575</td>\n",
       "      <td>280</td>\n",
       "      <td>241.7538</td>\n",
       "      <td>925</td>\n",
       "      <td>7996</td>\n",
       "      <td>5583</td>\n",
       "      <td>1805</td>\n",
       "      <td>NaN</td>\n",
       "      <td>22</td>\n",
       "    </tr>\n",
       "    <tr>\n",
       "      <th>8526</th>\n",
       "      <td>9</td>\n",
       "      <td>7.315</td>\n",
       "      <td>9185</td>\n",
       "      <td>0.015388</td>\n",
       "      <td>1989</td>\n",
       "      <td>155.0340</td>\n",
       "      <td>1543</td>\n",
       "      <td>7996</td>\n",
       "      <td>4641</td>\n",
       "      <td>9294</td>\n",
       "      <td>NaN</td>\n",
       "      <td>13</td>\n",
       "    </tr>\n",
       "    <tr>\n",
       "      <th>8527</th>\n",
       "      <td>9</td>\n",
       "      <td>13.600</td>\n",
       "      <td>5019</td>\n",
       "      <td>0.118599</td>\n",
       "      <td>1136</td>\n",
       "      <td>234.2300</td>\n",
       "      <td>1559</td>\n",
       "      <td>4655</td>\n",
       "      <td>5583</td>\n",
       "      <td>1559</td>\n",
       "      <td>NaN</td>\n",
       "      <td>35</td>\n",
       "    </tr>\n",
       "  </tbody>\n",
       "</table>\n",
       "</div>"
      ],
      "text/plain": [
       "      Item_Identifier  Item_Weight  Item_Fat_Content  Item_Visibility  \\\n",
       "8523                9       20.750              9185         0.007565   \n",
       "8524                9        8.300              5019         0.038428   \n",
       "8525                9       14.600              9185         0.099575   \n",
       "8526                9        7.315              9185         0.015388   \n",
       "8527                9       13.600              5019         0.118599   \n",
       "\n",
       "      Item_Type  Item_MRP  Outlet_Identifier  Outlet_Size  \\\n",
       "8523       1989  107.8622               1550         4655   \n",
       "8524       1136   87.3198               1543         7996   \n",
       "8525        280  241.7538                925         7996   \n",
       "8526       1989  155.0340               1543         7996   \n",
       "8527       1136  234.2300               1559         4655   \n",
       "\n",
       "      Outlet_Location_Type  Outlet_Type  Item_Outlet_Sales  Outlet_Year  \n",
       "8523                  3980         9294                NaN           21  \n",
       "8524                  4641         9294                NaN           13  \n",
       "8525                  5583         1805                NaN           22  \n",
       "8526                  4641         9294                NaN           13  \n",
       "8527                  5583         1559                NaN           35  "
      ]
     },
     "execution_count": 29,
     "metadata": {},
     "output_type": "execute_result"
    }
   ],
   "source": [
    "test.head()"
   ]
  },
  {
   "cell_type": "markdown",
   "metadata": {},
   "source": [
    "<b>First, we need to find the correlation between each predictor and the target variable. This can be done using the corr() method.</b>"
   ]
  },
  {
   "cell_type": "code",
   "execution_count": 30,
   "metadata": {
    "execution": {
     "iopub.execute_input": "2023-01-18T09:04:21.980802Z",
     "iopub.status.busy": "2023-01-18T09:04:21.980126Z",
     "iopub.status.idle": "2023-01-18T09:04:22.024938Z",
     "shell.execute_reply": "2023-01-18T09:04:22.023911Z",
     "shell.execute_reply.started": "2023-01-18T09:04:21.980764Z"
    }
   },
   "outputs": [
    {
     "data": {
      "text/plain": [
       "Item_Identifier        -0.073375\n",
       "Item_Weight             0.013261\n",
       "Item_Fat_Content       -0.018719\n",
       "Item_Visibility        -0.128453\n",
       "Item_Type               0.038123\n",
       "Item_MRP                0.567574\n",
       "Outlet_Identifier       0.415482\n",
       "Outlet_Size            -0.165968\n",
       "Outlet_Location_Type    0.082256\n",
       "Outlet_Type             0.100742\n",
       "Item_Outlet_Sales       1.000000\n",
       "Outlet_Year             0.049135\n",
       "Name: Item_Outlet_Sales, dtype: float64"
      ]
     },
     "execution_count": 30,
     "metadata": {},
     "output_type": "execute_result"
    }
   ],
   "source": [
    "corr_matrix=train.corr()\n",
    "corr_matrix['Item_Outlet_Sales']"
   ]
  },
  {
   "cell_type": "markdown",
   "metadata": {},
   "source": [
    "# Removing the less correlated features\n",
    "<b>From the above plot, we can visualize that Item_Identifier, Item_Weight, item_fat_content,  Item_Type, Outlet_Location_Type have less correlation with the Outlet_Location_Type (Target Variable). We can remove these predictors from the model.</b>"
   ]
  },
  {
   "cell_type": "code",
   "execution_count": 33,
   "metadata": {
    "execution": {
     "iopub.execute_input": "2023-01-18T09:04:24.987375Z",
     "iopub.status.busy": "2023-01-18T09:04:24.986566Z",
     "iopub.status.idle": "2023-01-18T09:04:24.995345Z",
     "shell.execute_reply": "2023-01-18T09:04:24.994329Z",
     "shell.execute_reply.started": "2023-01-18T09:04:24.987323Z"
    }
   },
   "outputs": [],
   "source": [
    "train= train.drop(['Item_Identifier','Item_Weight', 'Item_Fat_Content', 'Item_Type', 'Outlet_Location_Type'],axis=1)"
   ]
  },
  {
   "cell_type": "markdown",
   "metadata": {},
   "source": [
    "<b>Finding the skewness gives helps us identify if scaling of the features is required.</b>"
   ]
  },
  {
   "cell_type": "code",
   "execution_count": 34,
   "metadata": {
    "execution": {
     "iopub.execute_input": "2023-01-18T09:04:25.011007Z",
     "iopub.status.busy": "2023-01-18T09:04:25.010140Z",
     "iopub.status.idle": "2023-01-18T09:04:25.024952Z",
     "shell.execute_reply": "2023-01-18T09:04:25.023557Z",
     "shell.execute_reply.started": "2023-01-18T09:04:25.010937Z"
    }
   },
   "outputs": [
    {
     "data": {
      "text/plain": [
       "Item_Visibility      1.224502\n",
       "Item_MRP             0.127202\n",
       "Outlet_Identifier   -2.244440\n",
       "Outlet_Size         -0.803252\n",
       "Outlet_Type         -0.650419\n",
       "Item_Outlet_Sales    1.177531\n",
       "Outlet_Year          0.396641\n",
       "dtype: float64"
      ]
     },
     "execution_count": 34,
     "metadata": {},
     "output_type": "execute_result"
    }
   ],
   "source": [
    "train.skew()"
   ]
  },
  {
   "cell_type": "code",
   "execution_count": 35,
   "metadata": {
    "execution": {
     "iopub.execute_input": "2023-01-18T09:04:25.026948Z",
     "iopub.status.busy": "2023-01-18T09:04:25.026317Z",
     "iopub.status.idle": "2023-01-18T09:04:26.413536Z",
     "shell.execute_reply": "2023-01-18T09:04:26.412413Z",
     "shell.execute_reply.started": "2023-01-18T09:04:25.026898Z"
    },
    "scrolled": true
   },
   "outputs": [
    {
     "data": {
      "text/plain": [
       "<matplotlib.axes._subplots.AxesSubplot at 0x7f53b77937d0>"
      ]
     },
     "execution_count": 35,
     "metadata": {},
     "output_type": "execute_result"
    },
    {
     "data": {
      "image/png": "[encoded data removed]",
      "text/plain": [
       "<Figure size 1080x1080 with 6 Axes>"
      ]
     },
     "metadata": {
      "needs_background": "light"
     },
     "output_type": "display_data"
    }
   ],
   "source": [
    "# Before Scaling\n",
    "fig, ax = plt.subplots(2,3,figsize = (15,15))\n",
    "sns.distplot(train[\"Item_Visibility\"], kde =True, ax=ax[0,0], color = \"red\")\n",
    "sns.distplot(train[\"Item_MRP\"], kde =True, ax=ax[0,1], color = \"blue\")\n",
    "sns.distplot(train[\"Outlet_Identifier\"], kde =True, ax=ax[0,2], color = \"orange\")\n",
    "sns.distplot(train[\"Outlet_Size\"], kde =True, ax=ax[1,0], color = \"magenta\")\n",
    "sns.distplot(train[\"Outlet_Type\"], kde =True, ax=ax[1,1], color = \"black\")\n",
    "sns.distplot(train[\"Outlet_Year\"], kde =True, ax=ax[1,2])"
   ]
  },
  {
   "cell_type": "markdown",
   "metadata": {},
   "source": [
    "# Normalization\n",
    "<b>We find that the predictors are all not following normal distribution. Hence we need to apply normalization. I am using Log Scaling for this purpose.</b>"
   ]
  },
  {
   "cell_type": "code",
   "execution_count": 36,
   "metadata": {
    "execution": {
     "iopub.execute_input": "2023-01-18T09:04:26.415674Z",
     "iopub.status.busy": "2023-01-18T09:04:26.415099Z",
     "iopub.status.idle": "2023-01-18T09:04:26.429075Z",
     "shell.execute_reply": "2023-01-18T09:04:26.427658Z",
     "shell.execute_reply.started": "2023-01-18T09:04:26.415626Z"
    }
   },
   "outputs": [],
   "source": [
    "for i in train.columns:\n",
    "    train[i] =np.log(train[i])"
   ]
  },
  {
   "cell_type": "code",
   "execution_count": 37,
   "metadata": {
    "execution": {
     "iopub.execute_input": "2023-01-18T09:04:26.432670Z",
     "iopub.status.busy": "2023-01-18T09:04:26.431970Z",
     "iopub.status.idle": "2023-01-18T09:04:26.450217Z",
     "shell.execute_reply": "2023-01-18T09:04:26.449015Z",
     "shell.execute_reply.started": "2023-01-18T09:04:26.432614Z"
    }
   },
   "outputs": [
    {
     "data": {
      "text/html": [
       "<div>\n",
       "<style scoped>\n",
       "    .dataframe tbody tr th:only-of-type {\n",
       "        vertical-align: middle;\n",
       "    }\n",
       "\n",
       "    .dataframe tbody tr th {\n",
       "        vertical-align: top;\n",
       "    }\n",
       "\n",
       "    .dataframe thead th {\n",
       "        text-align: right;\n",
       "    }\n",
       "</style>\n",
       "<table border=\"1\" class=\"dataframe\">\n",
       "  <thead>\n",
       "    <tr style=\"text-align: right;\">\n",
       "      <th></th>\n",
       "      <th>Item_Visibility</th>\n",
       "      <th>Item_MRP</th>\n",
       "      <th>Outlet_Identifier</th>\n",
       "      <th>Outlet_Size</th>\n",
       "      <th>Outlet_Type</th>\n",
       "      <th>Item_Outlet_Sales</th>\n",
       "      <th>Outlet_Year</th>\n",
       "    </tr>\n",
       "  </thead>\n",
       "  <tbody>\n",
       "    <tr>\n",
       "      <th>0</th>\n",
       "      <td>-4.132215</td>\n",
       "      <td>5.520697</td>\n",
       "      <td>7.346010</td>\n",
       "      <td>8.445697</td>\n",
       "      <td>9.137124</td>\n",
       "      <td>8.225540</td>\n",
       "      <td>3.044522</td>\n",
       "    </tr>\n",
       "    <tr>\n",
       "      <th>1</th>\n",
       "      <td>-3.948780</td>\n",
       "      <td>3.876794</td>\n",
       "      <td>7.343426</td>\n",
       "      <td>8.445697</td>\n",
       "      <td>7.343426</td>\n",
       "      <td>6.094524</td>\n",
       "      <td>2.397895</td>\n",
       "    </tr>\n",
       "    <tr>\n",
       "      <th>2</th>\n",
       "      <td>-4.088756</td>\n",
       "      <td>4.953133</td>\n",
       "      <td>7.346010</td>\n",
       "      <td>8.445697</td>\n",
       "      <td>9.137124</td>\n",
       "      <td>7.648392</td>\n",
       "      <td>3.044522</td>\n",
       "    </tr>\n",
       "    <tr>\n",
       "      <th>3</th>\n",
       "      <td>-4.026630</td>\n",
       "      <td>5.204529</td>\n",
       "      <td>6.829794</td>\n",
       "      <td>8.986697</td>\n",
       "      <td>7.498316</td>\n",
       "      <td>6.596300</td>\n",
       "      <td>3.091042</td>\n",
       "    </tr>\n",
       "    <tr>\n",
       "      <th>4</th>\n",
       "      <td>-4.627433</td>\n",
       "      <td>3.986414</td>\n",
       "      <td>7.347944</td>\n",
       "      <td>7.347944</td>\n",
       "      <td>9.137124</td>\n",
       "      <td>6.902446</td>\n",
       "      <td>3.496508</td>\n",
       "    </tr>\n",
       "  </tbody>\n",
       "</table>\n",
       "</div>"
      ],
      "text/plain": [
       "   Item_Visibility  Item_MRP  Outlet_Identifier  Outlet_Size  Outlet_Type  \\\n",
       "0        -4.132215  5.520697           7.346010     8.445697     9.137124   \n",
       "1        -3.948780  3.876794           7.343426     8.445697     7.343426   \n",
       "2        -4.088756  4.953133           7.346010     8.445697     9.137124   \n",
       "3        -4.026630  5.204529           6.829794     8.986697     7.498316   \n",
       "4        -4.627433  3.986414           7.347944     7.347944     9.137124   \n",
       "\n",
       "   Item_Outlet_Sales  Outlet_Year  \n",
       "0           8.225540     3.044522  \n",
       "1           6.094524     2.397895  \n",
       "2           7.648392     3.044522  \n",
       "3           6.596300     3.091042  \n",
       "4           6.902446     3.496508  "
      ]
     },
     "execution_count": 37,
     "metadata": {},
     "output_type": "execute_result"
    }
   ],
   "source": [
    "train.head()"
   ]
  },
  {
   "cell_type": "code",
   "execution_count": 38,
   "metadata": {
    "execution": {
     "iopub.execute_input": "2023-01-18T09:04:26.452256Z",
     "iopub.status.busy": "2023-01-18T09:04:26.451623Z",
     "iopub.status.idle": "2023-01-18T09:04:27.876417Z",
     "shell.execute_reply": "2023-01-18T09:04:27.874985Z",
     "shell.execute_reply.started": "2023-01-18T09:04:26.452208Z"
    }
   },
   "outputs": [
    {
     "data": {
      "text/plain": [
       "<matplotlib.axes._subplots.AxesSubplot at 0x7f53b742a350>"
      ]
     },
     "execution_count": 38,
     "metadata": {},
     "output_type": "execute_result"
    },
    {
     "data": {
      "image/png": "[encoded data removed]",
      "text/plain": [
       "<Figure size 1080x1080 with 6 Axes>"
      ]
     },
     "metadata": {
      "needs_background": "light"
     },
     "output_type": "display_data"
    }
   ],
   "source": [
    "#After Scaling the variables\n",
    "fig, ax = plt.subplots(2,3,figsize = (15,15))\n",
    "sns.distplot(train[\"Item_Visibility\"], kde =True, ax=ax[0,0], color = \"red\")\n",
    "sns.distplot(train[\"Item_MRP\"], kde =True, ax=ax[0,1], color = \"blue\")\n",
    "sns.distplot(train[\"Outlet_Identifier\"], kde =True, ax=ax[0,2], color = \"orange\")\n",
    "sns.distplot(train[\"Outlet_Size\"], kde =True, ax=ax[1,0], color = \"magenta\")\n",
    "sns.distplot(train[\"Outlet_Type\"], kde =True, ax=ax[1,1], color = \"black\")\n",
    "sns.distplot(train[\"Outlet_Year\"], kde =True, ax=ax[1,2])"
   ]
  },
  {
   "cell_type": "markdown",
   "metadata": {},
   "source": [
    "# STEP 5: Building Model and identifying the best fit model\n",
    "\n",
    "# Defining the Tatget and Predictor Variables\n",
    "<b>Next, we need to define the Target and Predictor variables.</b>"
   ]
  },
  {
   "cell_type": "code",
   "execution_count": 39,
   "metadata": {
    "execution": {
     "iopub.execute_input": "2023-01-18T09:04:27.880944Z",
     "iopub.status.busy": "2023-01-18T09:04:27.880567Z",
     "iopub.status.idle": "2023-01-18T09:04:27.911013Z",
     "shell.execute_reply": "2023-01-18T09:04:27.909537Z",
     "shell.execute_reply.started": "2023-01-18T09:04:27.880898Z"
    }
   },
   "outputs": [
    {
     "data": {
      "text/html": [
       "<div>\n",
       "<style scoped>\n",
       "    .dataframe tbody tr th:only-of-type {\n",
       "        vertical-align: middle;\n",
       "    }\n",
       "\n",
       "    .dataframe tbody tr th {\n",
       "        vertical-align: top;\n",
       "    }\n",
       "\n",
       "    .dataframe thead th {\n",
       "        text-align: right;\n",
       "    }\n",
       "</style>\n",
       "<table border=\"1\" class=\"dataframe\">\n",
       "  <thead>\n",
       "    <tr style=\"text-align: right;\">\n",
       "      <th></th>\n",
       "      <th>Item_Visibility</th>\n",
       "      <th>Item_MRP</th>\n",
       "      <th>Outlet_Identifier</th>\n",
       "      <th>Outlet_Size</th>\n",
       "      <th>Outlet_Type</th>\n",
       "      <th>Outlet_Year</th>\n",
       "    </tr>\n",
       "  </thead>\n",
       "  <tbody>\n",
       "    <tr>\n",
       "      <th>0</th>\n",
       "      <td>-4.132215</td>\n",
       "      <td>5.520697</td>\n",
       "      <td>7.346010</td>\n",
       "      <td>8.445697</td>\n",
       "      <td>9.137124</td>\n",
       "      <td>3.044522</td>\n",
       "    </tr>\n",
       "    <tr>\n",
       "      <th>1</th>\n",
       "      <td>-3.948780</td>\n",
       "      <td>3.876794</td>\n",
       "      <td>7.343426</td>\n",
       "      <td>8.445697</td>\n",
       "      <td>7.343426</td>\n",
       "      <td>2.397895</td>\n",
       "    </tr>\n",
       "    <tr>\n",
       "      <th>2</th>\n",
       "      <td>-4.088756</td>\n",
       "      <td>4.953133</td>\n",
       "      <td>7.346010</td>\n",
       "      <td>8.445697</td>\n",
       "      <td>9.137124</td>\n",
       "      <td>3.044522</td>\n",
       "    </tr>\n",
       "    <tr>\n",
       "      <th>3</th>\n",
       "      <td>-4.026630</td>\n",
       "      <td>5.204529</td>\n",
       "      <td>6.829794</td>\n",
       "      <td>8.986697</td>\n",
       "      <td>7.498316</td>\n",
       "      <td>3.091042</td>\n",
       "    </tr>\n",
       "    <tr>\n",
       "      <th>4</th>\n",
       "      <td>-4.627433</td>\n",
       "      <td>3.986414</td>\n",
       "      <td>7.347944</td>\n",
       "      <td>7.347944</td>\n",
       "      <td>9.137124</td>\n",
       "      <td>3.496508</td>\n",
       "    </tr>\n",
       "  </tbody>\n",
       "</table>\n",
       "</div>"
      ],
      "text/plain": [
       "   Item_Visibility  Item_MRP  Outlet_Identifier  Outlet_Size  Outlet_Type  \\\n",
       "0        -4.132215  5.520697           7.346010     8.445697     9.137124   \n",
       "1        -3.948780  3.876794           7.343426     8.445697     7.343426   \n",
       "2        -4.088756  4.953133           7.346010     8.445697     9.137124   \n",
       "3        -4.026630  5.204529           6.829794     8.986697     7.498316   \n",
       "4        -4.627433  3.986414           7.347944     7.347944     9.137124   \n",
       "\n",
       "   Outlet_Year  \n",
       "0     3.044522  \n",
       "1     2.397895  \n",
       "2     3.044522  \n",
       "3     3.091042  \n",
       "4     3.496508  "
      ]
     },
     "execution_count": 39,
     "metadata": {},
     "output_type": "execute_result"
    }
   ],
   "source": [
    "y=train[\"Item_Outlet_Sales\"]\n",
    "x= train.drop([\"Item_Outlet_Sales\"],axis=1)\n",
    "x.head()"
   ]
  },
  {
   "cell_type": "markdown",
   "metadata": {},
   "source": [
    "# Importing necessary Libraries"
   ]
  },
  {
   "cell_type": "code",
   "execution_count": 40,
   "metadata": {
    "execution": {
     "iopub.execute_input": "2023-01-18T09:04:27.913153Z",
     "iopub.status.busy": "2023-01-18T09:04:27.912485Z",
     "iopub.status.idle": "2023-01-18T09:04:28.139570Z",
     "shell.execute_reply": "2023-01-18T09:04:28.138111Z",
     "shell.execute_reply.started": "2023-01-18T09:04:27.913099Z"
    }
   },
   "outputs": [],
   "source": [
    "from matplotlib import pyplot as plt\n",
    "from sklearn import metrics\n",
    "from sklearn.model_selection import train_test_split\n",
    "from sklearn.feature_extraction.text import CountVectorizer, TfidfVectorizer\n",
    "from sklearn.linear_model import LinearRegression\n",
    "from sklearn.metrics import r2_score"
   ]
  },
  {
   "cell_type": "markdown",
   "metadata": {},
   "source": [
    "# Train/Test Split"
   ]
  },
  {
   "cell_type": "code",
   "execution_count": 41,
   "metadata": {
    "execution": {
     "iopub.execute_input": "2023-01-18T09:04:28.146201Z",
     "iopub.status.busy": "2023-01-18T09:04:28.145668Z",
     "iopub.status.idle": "2023-01-18T09:04:28.162874Z",
     "shell.execute_reply": "2023-01-18T09:04:28.161587Z",
     "shell.execute_reply.started": "2023-01-18T09:04:28.146153Z"
    }
   },
   "outputs": [],
   "source": [
    "x_train, x_test, y_train, y_test = train_test_split(x, y, test_size=0.20, random_state=0)"
   ]
  },
  {
   "cell_type": "markdown",
   "metadata": {},
   "source": [
    "# Fitting Linear Regression Model:"
   ]
  },
  {
   "cell_type": "code",
   "execution_count": 42,
   "metadata": {
    "execution": {
     "iopub.execute_input": "2023-01-18T09:04:28.171015Z",
     "iopub.status.busy": "2023-01-18T09:04:28.168155Z",
     "iopub.status.idle": "2023-01-18T09:04:28.219565Z",
     "shell.execute_reply": "2023-01-18T09:04:28.218418Z",
     "shell.execute_reply.started": "2023-01-18T09:04:28.170956Z"
    }
   },
   "outputs": [],
   "source": [
    "reg = LinearRegression()\n",
    "reg = reg.fit(x_train,y_train)"
   ]
  },
  {
   "cell_type": "code",
   "execution_count": 43,
   "metadata": {
    "execution": {
     "iopub.execute_input": "2023-01-18T09:04:28.227147Z",
     "iopub.status.busy": "2023-01-18T09:04:28.224706Z",
     "iopub.status.idle": "2023-01-18T09:04:28.243557Z",
     "shell.execute_reply": "2023-01-18T09:04:28.241622Z",
     "shell.execute_reply.started": "2023-01-18T09:04:28.227090Z"
    }
   },
   "outputs": [
    {
     "data": {
      "text/plain": [
       "array([-1.36762821e-03,  1.01607871e+00,  4.35106882e+00,  2.02439791e-01,\n",
       "       -1.14157014e-01,  4.25280127e-01])"
      ]
     },
     "execution_count": 43,
     "metadata": {},
     "output_type": "execute_result"
    }
   ],
   "source": [
    "reg.coef_"
   ]
  },
  {
   "cell_type": "code",
   "execution_count": 44,
   "metadata": {
    "execution": {
     "iopub.execute_input": "2023-01-18T09:04:28.251957Z",
     "iopub.status.busy": "2023-01-18T09:04:28.249162Z",
     "iopub.status.idle": "2023-01-18T09:04:28.265292Z",
     "shell.execute_reply": "2023-01-18T09:04:28.263963Z",
     "shell.execute_reply.started": "2023-01-18T09:04:28.251894Z"
    }
   },
   "outputs": [
    {
     "data": {
      "text/plain": [
       "-31.331613347286"
      ]
     },
     "execution_count": 44,
     "metadata": {},
     "output_type": "execute_result"
    }
   ],
   "source": [
    "reg.intercept_"
   ]
  },
  {
   "cell_type": "code",
   "execution_count": 45,
   "metadata": {
    "execution": {
     "iopub.execute_input": "2023-01-18T09:04:28.272047Z",
     "iopub.status.busy": "2023-01-18T09:04:28.269364Z",
     "iopub.status.idle": "2023-01-18T09:04:28.289530Z",
     "shell.execute_reply": "2023-01-18T09:04:28.288353Z",
     "shell.execute_reply.started": "2023-01-18T09:04:28.271989Z"
    }
   },
   "outputs": [],
   "source": [
    "y_pred = reg.predict(x_test)"
   ]
  },
  {
   "cell_type": "code",
   "execution_count": 46,
   "metadata": {
    "execution": {
     "iopub.execute_input": "2023-01-18T09:04:28.297048Z",
     "iopub.status.busy": "2023-01-18T09:04:28.294104Z",
     "iopub.status.idle": "2023-01-18T09:04:28.315610Z",
     "shell.execute_reply": "2023-01-18T09:04:28.314450Z",
     "shell.execute_reply.started": "2023-01-18T09:04:28.296988Z"
    }
   },
   "outputs": [
    {
     "name": "stdout",
     "output_type": "stream",
     "text": [
      "Root Mean Squared Error: 0.5375914591271843\n",
      "R2_Score: 72.95010719621588 %\n"
     ]
    }
   ],
   "source": [
    "rmse = np.sqrt(metrics.mean_squared_error(y_test, y_pred))\n",
    "r2_score = r2_score(y_test, y_pred)\n",
    "print('Root Mean Squared Error:',rmse )\n",
    "print('R2_Score:',r2_score*100,\"%\" )"
   ]
  },
  {
   "cell_type": "code",
   "execution_count": 47,
   "metadata": {
    "execution": {
     "iopub.execute_input": "2023-01-18T09:04:28.322047Z",
     "iopub.status.busy": "2023-01-18T09:04:28.319544Z",
     "iopub.status.idle": "2023-01-18T09:04:28.577212Z",
     "shell.execute_reply": "2023-01-18T09:04:28.575989Z",
     "shell.execute_reply.started": "2023-01-18T09:04:28.321989Z"
    }
   },
   "outputs": [
    {
     "data": {
      "text/plain": [
       "<matplotlib.lines.Line2D at 0x7f53cb300bd0>"
      ]
     },
     "execution_count": 47,
     "metadata": {},
     "output_type": "execute_result"
    },
    {
     "data": {
      "image/png": "[encoded data removed]",
      "text/plain": [
       "<Figure size 432x288 with 1 Axes>"
      ]
     },
     "metadata": {
      "needs_background": "light"
     },
     "output_type": "display_data"
    }
   ],
   "source": [
    "residue_lreg = y_test - y_pred\n",
    "#Plotting Residual Plot\n",
    "plt.scatter(y_test,residue_lreg, c = \"blue\")\n",
    "plt.xlabel(\"Residual Plot for Linear Regression\")\n",
    "plt.ylabel(\"y_test\")\n",
    "plt.axhline(y = 0)"
   ]
  },
  {
   "cell_type": "markdown",
   "metadata": {},
   "source": [
    "# Regularization:\n",
    "\n",
    "# 1) Lasso Regression (L1 Regularization)"
   ]
  },
  {
   "cell_type": "code",
   "execution_count": 48,
   "metadata": {
    "execution": {
     "iopub.execute_input": "2023-01-18T09:04:28.579325Z",
     "iopub.status.busy": "2023-01-18T09:04:28.578910Z",
     "iopub.status.idle": "2023-01-18T09:04:28.603658Z",
     "shell.execute_reply": "2023-01-18T09:04:28.602373Z",
     "shell.execute_reply.started": "2023-01-18T09:04:28.579277Z"
    }
   },
   "outputs": [],
   "source": [
    "from sklearn.linear_model import Lasso, Ridge\n",
    "ls = Lasso(alpha = 0.009)\n",
    "ls = ls.fit(x_train, y_train)"
   ]
  },
  {
   "cell_type": "code",
   "execution_count": 49,
   "metadata": {
    "execution": {
     "iopub.execute_input": "2023-01-18T09:04:28.612717Z",
     "iopub.status.busy": "2023-01-18T09:04:28.611984Z",
     "iopub.status.idle": "2023-01-18T09:04:28.623079Z",
     "shell.execute_reply": "2023-01-18T09:04:28.621460Z",
     "shell.execute_reply.started": "2023-01-18T09:04:28.612662Z"
    }
   },
   "outputs": [
    {
     "data": {
      "text/plain": [
       "array([-0.        ,  0.9848907 ,  3.64651026,  0.03249564, -0.04162165,\n",
       "        0.19997325])"
      ]
     },
     "execution_count": 49,
     "metadata": {},
     "output_type": "execute_result"
    }
   ],
   "source": [
    "ls.coef_"
   ]
  },
  {
   "cell_type": "code",
   "execution_count": 50,
   "metadata": {
    "execution": {
     "iopub.execute_input": "2023-01-18T09:04:28.625728Z",
     "iopub.status.busy": "2023-01-18T09:04:28.624916Z",
     "iopub.status.idle": "2023-01-18T09:04:28.636653Z",
     "shell.execute_reply": "2023-01-18T09:04:28.635035Z",
     "shell.execute_reply.started": "2023-01-18T09:04:28.625676Z"
    }
   },
   "outputs": [
    {
     "data": {
      "text/plain": [
       "-24.52023567491444"
      ]
     },
     "execution_count": 50,
     "metadata": {},
     "output_type": "execute_result"
    }
   ],
   "source": [
    "ls.intercept_"
   ]
  },
  {
   "cell_type": "code",
   "execution_count": 51,
   "metadata": {
    "execution": {
     "iopub.execute_input": "2023-01-18T09:04:28.640704Z",
     "iopub.status.busy": "2023-01-18T09:04:28.640262Z",
     "iopub.status.idle": "2023-01-18T09:04:28.664938Z",
     "shell.execute_reply": "2023-01-18T09:04:28.661025Z",
     "shell.execute_reply.started": "2023-01-18T09:04:28.640653Z"
    }
   },
   "outputs": [],
   "source": [
    "ls_pred = ls.predict(x_test)"
   ]
  },
  {
   "cell_type": "code",
   "execution_count": 52,
   "metadata": {
    "execution": {
     "iopub.execute_input": "2023-01-18T09:04:28.667618Z",
     "iopub.status.busy": "2023-01-18T09:04:28.667099Z",
     "iopub.status.idle": "2023-01-18T09:04:28.679442Z",
     "shell.execute_reply": "2023-01-18T09:04:28.677173Z",
     "shell.execute_reply.started": "2023-01-18T09:04:28.667572Z"
    }
   },
   "outputs": [
    {
     "name": "stdout",
     "output_type": "stream",
     "text": [
      "Root Mean Squared Error: 0.5517663802701464\n"
     ]
    }
   ],
   "source": [
    "rmse_LS = np.sqrt(metrics.mean_squared_error(y_test, ls_pred))\n",
    "print('Root Mean Squared Error:',rmse_LS )"
   ]
  },
  {
   "cell_type": "code",
   "execution_count": 53,
   "metadata": {
    "execution": {
     "iopub.execute_input": "2023-01-18T09:04:28.685032Z",
     "iopub.status.busy": "2023-01-18T09:04:28.682810Z",
     "iopub.status.idle": "2023-01-18T09:04:28.702305Z",
     "shell.execute_reply": "2023-01-18T09:04:28.701068Z",
     "shell.execute_reply.started": "2023-01-18T09:04:28.684977Z"
    }
   },
   "outputs": [
    {
     "name": "stdout",
     "output_type": "stream",
     "text": [
      "R2_Score: 71.50482703170576 %\n"
     ]
    }
   ],
   "source": [
    "from sklearn.metrics import r2_score\n",
    "r2_score_LS = r2_score(y_test, ls_pred)\n",
    "print('R2_Score:',r2_score_LS*100,\"%\" )"
   ]
  },
  {
   "cell_type": "code",
   "execution_count": 54,
   "metadata": {
    "execution": {
     "iopub.execute_input": "2023-01-18T09:04:28.705387Z",
     "iopub.status.busy": "2023-01-18T09:04:28.704564Z",
     "iopub.status.idle": "2023-01-18T09:04:28.963094Z",
     "shell.execute_reply": "2023-01-18T09:04:28.962042Z",
     "shell.execute_reply.started": "2023-01-18T09:04:28.705328Z"
    }
   },
   "outputs": [
    {
     "data": {
      "text/plain": [
       "<matplotlib.lines.Line2D at 0x7f53b4111690>"
      ]
     },
     "execution_count": 54,
     "metadata": {},
     "output_type": "execute_result"
    },
    {
     "data": {
      "image/png": "[encoded data removed]",
      "text/plain": [
       "<Figure size 432x288 with 1 Axes>"
      ]
     },
     "metadata": {
      "needs_background": "light"
     },
     "output_type": "display_data"
    }
   ],
   "source": [
    "#RESIDUE VALUE AFTER LASSO REGRESSION\n",
    "residue_lasso = y_test - ls_pred\n",
    "#Plotting Residual Plot\n",
    "plt.scatter(y_test,residue_lasso, c = \"blue\")\n",
    "plt.xlabel(\"Residual Plot for Lasso Regression\")\n",
    "plt.ylabel(\"y_test\")\n",
    "plt.axhline(y = 0)"
   ]
  },
  {
   "cell_type": "markdown",
   "metadata": {},
   "source": [
    "# 2) Ridge Regression (L2 Regularization)"
   ]
  },
  {
   "cell_type": "code",
   "execution_count": 55,
   "metadata": {
    "execution": {
     "iopub.execute_input": "2023-01-18T09:04:28.970889Z",
     "iopub.status.busy": "2023-01-18T09:04:28.968161Z",
     "iopub.status.idle": "2023-01-18T09:04:28.999060Z",
     "shell.execute_reply": "2023-01-18T09:04:28.997967Z",
     "shell.execute_reply.started": "2023-01-18T09:04:28.970814Z"
    }
   },
   "outputs": [
    {
     "data": {
      "text/plain": [
       "Ridge(alpha=0.009)"
      ]
     },
     "execution_count": 55,
     "metadata": {},
     "output_type": "execute_result"
    }
   ],
   "source": [
    "#Ridge Regression\n",
    "rr = Ridge(alpha = 0.009)\n",
    "rr.fit(x_train, y_train)"
   ]
  },
  {
   "cell_type": "code",
   "execution_count": 56,
   "metadata": {
    "execution": {
     "iopub.execute_input": "2023-01-18T09:04:29.006995Z",
     "iopub.status.busy": "2023-01-18T09:04:29.004287Z",
     "iopub.status.idle": "2023-01-18T09:04:29.017463Z",
     "shell.execute_reply": "2023-01-18T09:04:29.016209Z",
     "shell.execute_reply.started": "2023-01-18T09:04:29.006935Z"
    }
   },
   "outputs": [],
   "source": [
    "#Prediction AFTER Ridge regression\n",
    "rr_pred = rr.predict(x_test)"
   ]
  },
  {
   "cell_type": "code",
   "execution_count": 57,
   "metadata": {
    "execution": {
     "iopub.execute_input": "2023-01-18T09:04:29.027642Z",
     "iopub.status.busy": "2023-01-18T09:04:29.024242Z",
     "iopub.status.idle": "2023-01-18T09:04:29.042884Z",
     "shell.execute_reply": "2023-01-18T09:04:29.041308Z",
     "shell.execute_reply.started": "2023-01-18T09:04:29.027579Z"
    }
   },
   "outputs": [
    {
     "name": "stdout",
     "output_type": "stream",
     "text": [
      "R2_Score: 72.95010719621588 %\n"
     ]
    }
   ],
   "source": [
    "#Accuracy score check\n",
    "r2_score_RR = r2_score(y_test, y_pred)\n",
    "print('R2_Score:',r2_score_RR*100,\"%\" )"
   ]
  },
  {
   "cell_type": "code",
   "execution_count": 58,
   "metadata": {
    "execution": {
     "iopub.execute_input": "2023-01-18T09:04:29.051300Z",
     "iopub.status.busy": "2023-01-18T09:04:29.048341Z",
     "iopub.status.idle": "2023-01-18T09:04:29.066500Z",
     "shell.execute_reply": "2023-01-18T09:04:29.064928Z",
     "shell.execute_reply.started": "2023-01-18T09:04:29.051234Z"
    }
   },
   "outputs": [
    {
     "data": {
      "text/plain": [
       "0.5375929508668699"
      ]
     },
     "execution_count": 58,
     "metadata": {},
     "output_type": "execute_result"
    }
   ],
   "source": [
    "#RMSE\n",
    "rmse_ridge = np.sqrt(metrics.mean_squared_error(y_test, rr_pred))\n",
    "rmse_ridge"
   ]
  },
  {
   "cell_type": "code",
   "execution_count": 59,
   "metadata": {
    "execution": {
     "iopub.execute_input": "2023-01-18T09:04:29.072458Z",
     "iopub.status.busy": "2023-01-18T09:04:29.071694Z",
     "iopub.status.idle": "2023-01-18T09:04:29.317970Z",
     "shell.execute_reply": "2023-01-18T09:04:29.316851Z",
     "shell.execute_reply.started": "2023-01-18T09:04:29.072408Z"
    }
   },
   "outputs": [
    {
     "data": {
      "text/plain": [
       "<matplotlib.lines.Line2D at 0x7f53b4087fd0>"
      ]
     },
     "execution_count": 59,
     "metadata": {},
     "output_type": "execute_result"
    },
    {
     "data": {
      "image/png": "[encoded data removed]",
      "text/plain": [
       "<Figure size 432x288 with 1 Axes>"
      ]
     },
     "metadata": {
      "needs_background": "light"
     },
     "output_type": "display_data"
    }
   ],
   "source": [
    "#residue after ridge\n",
    "residue_rr = y_test-rr_pred\n",
    "#Plotting Residual Plot\n",
    "plt.scatter(y_test,residue_rr, c = \"blue\")\n",
    "plt.xlabel(\"Residual Plot for Ridgeo Regression\")\n",
    "plt.ylabel(\"y_test\")\n",
    "plt.axhline(y = 0)"
   ]
  },
  {
   "cell_type": "markdown",
   "metadata": {},
   "source": [
    "# Plotting the coeffecients of each model"
   ]
  },
  {
   "cell_type": "code",
   "execution_count": 60,
   "metadata": {
    "execution": {
     "iopub.execute_input": "2023-01-18T09:04:29.326236Z",
     "iopub.status.busy": "2023-01-18T09:04:29.323389Z",
     "iopub.status.idle": "2023-01-18T09:04:29.521727Z",
     "shell.execute_reply": "2023-01-18T09:04:29.520616Z",
     "shell.execute_reply.started": "2023-01-18T09:04:29.326170Z"
    }
   },
   "outputs": [
    {
     "data": {
      "text/plain": [
       "<matplotlib.axes._subplots.AxesSubplot at 0x7f53afd34810>"
      ]
     },
     "execution_count": 60,
     "metadata": {},
     "output_type": "execute_result"
    },
    {
     "data": {
      "image/png": "[encoded data removed]",
      "text/plain": [
       "<Figure size 432x288 with 1 Axes>"
      ]
     },
     "metadata": {
      "needs_background": "light"
     },
     "output_type": "display_data"
    }
   ],
   "source": [
    "#Linear Regression\n",
    "Lreg_coef = pd.Series(reg.coef_,index =x.columns)\n",
    "Lreg_coef.plot(kind=\"bar\", title= \"Linear\")"
   ]
  },
  {
   "cell_type": "code",
   "execution_count": 61,
   "metadata": {
    "execution": {
     "iopub.execute_input": "2023-01-18T09:04:29.523878Z",
     "iopub.status.busy": "2023-01-18T09:04:29.523226Z",
     "iopub.status.idle": "2023-01-18T09:04:29.697062Z",
     "shell.execute_reply": "2023-01-18T09:04:29.695958Z",
     "shell.execute_reply.started": "2023-01-18T09:04:29.523799Z"
    }
   },
   "outputs": [
    {
     "data": {
      "text/plain": [
       "<matplotlib.axes._subplots.AxesSubplot at 0x7f53afcb5510>"
      ]
     },
     "execution_count": 61,
     "metadata": {},
     "output_type": "execute_result"
    },
    {
     "data": {
      "image/png": "[encoded data removed]",
      "text/plain": [
       "<Figure size 432x288 with 1 Axes>"
      ]
     },
     "metadata": {
      "needs_background": "light"
     },
     "output_type": "display_data"
    }
   ],
   "source": [
    "# Lasso Regression\n",
    "lasso_coef = pd.Series(ls.coef_,index =x.columns)\n",
    "lasso_coef.plot(kind=\"bar\", title= \"Lasso\")"
   ]
  },
  {
   "cell_type": "code",
   "execution_count": 62,
   "metadata": {
    "execution": {
     "iopub.execute_input": "2023-01-18T09:04:29.699237Z",
     "iopub.status.busy": "2023-01-18T09:04:29.698605Z",
     "iopub.status.idle": "2023-01-18T09:04:29.863514Z",
     "shell.execute_reply": "2023-01-18T09:04:29.862532Z",
     "shell.execute_reply.started": "2023-01-18T09:04:29.699185Z"
    }
   },
   "outputs": [
    {
     "data": {
      "text/plain": [
       "<matplotlib.axes._subplots.AxesSubplot at 0x7f53afc96e90>"
      ]
     },
     "execution_count": 62,
     "metadata": {},
     "output_type": "execute_result"
    },
    {
     "data": {
      "image/png": "[encoded data removed]",
      "text/plain": [
       "<Figure size 432x288 with 1 Axes>"
      ]
     },
     "metadata": {
      "needs_background": "light"
     },
     "output_type": "display_data"
    }
   ],
   "source": [
    "# Ridge Regression\n",
    "ridge_coef = pd.Series(rr.coef_,index =x.columns)\n",
    "ridge_coef.plot(kind=\"bar\", title= \"Ridge\")"
   ]
  },
  {
   "cell_type": "code",
   "execution_count": 63,
   "metadata": {
    "execution": {
     "iopub.execute_input": "2023-01-18T09:04:29.865577Z",
     "iopub.status.busy": "2023-01-18T09:04:29.864969Z",
     "iopub.status.idle": "2023-01-18T09:04:29.898244Z",
     "shell.execute_reply": "2023-01-18T09:04:29.897299Z",
     "shell.execute_reply.started": "2023-01-18T09:04:29.865529Z"
    }
   },
   "outputs": [
    {
     "data": {
      "text/html": [
       "<div>\n",
       "<style scoped>\n",
       "    .dataframe tbody tr th:only-of-type {\n",
       "        vertical-align: middle;\n",
       "    }\n",
       "\n",
       "    .dataframe tbody tr th {\n",
       "        vertical-align: top;\n",
       "    }\n",
       "\n",
       "    .dataframe thead th {\n",
       "        text-align: right;\n",
       "    }\n",
       "</style>\n",
       "<table border=\"1\" class=\"dataframe\">\n",
       "  <thead>\n",
       "    <tr style=\"text-align: right;\">\n",
       "      <th></th>\n",
       "      <th>Linear Regression</th>\n",
       "      <th>Ridge Regression</th>\n",
       "      <th>Lasso Regression</th>\n",
       "    </tr>\n",
       "  </thead>\n",
       "  <tbody>\n",
       "    <tr>\n",
       "      <th>0</th>\n",
       "      <td>-0.001368</td>\n",
       "      <td>-0.001376</td>\n",
       "      <td>-0.000000</td>\n",
       "    </tr>\n",
       "    <tr>\n",
       "      <th>1</th>\n",
       "      <td>1.016079</td>\n",
       "      <td>1.016074</td>\n",
       "      <td>0.984891</td>\n",
       "    </tr>\n",
       "    <tr>\n",
       "      <th>2</th>\n",
       "      <td>4.351069</td>\n",
       "      <td>4.350739</td>\n",
       "      <td>3.646510</td>\n",
       "    </tr>\n",
       "    <tr>\n",
       "      <th>3</th>\n",
       "      <td>0.202440</td>\n",
       "      <td>0.202388</td>\n",
       "      <td>0.032496</td>\n",
       "    </tr>\n",
       "    <tr>\n",
       "      <th>4</th>\n",
       "      <td>-0.114157</td>\n",
       "      <td>-0.114127</td>\n",
       "      <td>-0.041622</td>\n",
       "    </tr>\n",
       "    <tr>\n",
       "      <th>5</th>\n",
       "      <td>0.425280</td>\n",
       "      <td>0.425214</td>\n",
       "      <td>0.199973</td>\n",
       "    </tr>\n",
       "  </tbody>\n",
       "</table>\n",
       "</div>"
      ],
      "text/plain": [
       "   Linear Regression  Ridge Regression  Lasso Regression\n",
       "0          -0.001368         -0.001376         -0.000000\n",
       "1           1.016079          1.016074          0.984891\n",
       "2           4.351069          4.350739          3.646510\n",
       "3           0.202440          0.202388          0.032496\n",
       "4          -0.114157         -0.114127         -0.041622\n",
       "5           0.425280          0.425214          0.199973"
      ]
     },
     "execution_count": 63,
     "metadata": {},
     "output_type": "execute_result"
    }
   ],
   "source": [
    "df1 = pd.DataFrame(columns=[\"Linear Regression\", \"Ridge Regression\",\"Lasso Regression\"])\n",
    "for i in range(len(rr.coef_)):\n",
    "    df1=df1.append({\"Linear Regression\":reg.coef_[i],\"Ridge Regression\":rr.coef_[i], \"Lasso Regression\":ls.coef_[i]}, ignore_index = True)\n",
    "df1"
   ]
  },
  {
   "cell_type": "markdown",
   "metadata": {},
   "source": [
    "# Deciding Best Fit Model\n",
    "<u><b>RMSE:</b></u>\n",
    "\n",
    "<b>Linear Regression:</b> 0.5375914591271844\n",
    "\n",
    "<b>Lasso Regression:</b> 0.5517663802701465\n",
    "\n",
    "<b>Ridge Regression:</b> 0.5375929508668702\n",
    "\n",
    "<u><b>r2_score:</b></u>\n",
    "\n",
    "<b>Linear Regression:</b> 72.95010719621588 %\n",
    "\n",
    "<b>Lasso Regression:</b> 71.50482703170576 %\n",
    "\n",
    "<b>Ridge Regression:</b> 72.95010719621588 %\n",
    "\n",
    "A model is said to be best fit if r2_score is closer to 100% and has a better RMSE score.\n",
    "\n",
    "1) Lasso regression has lower accuracy than Linear and Ridge Regression.\n",
    "\n",
    "2) Ridge regression and Linear regression have similar R2_Score values. But Linear Regression model has better RMSE value. \n",
    "\n",
    "Therefore, the best fit model for the given dataset is: <b>LINEAR REGRESSION</b>"
   ]
  },
  {
   "cell_type": "markdown",
   "metadata": {},
   "source": [
    "# STEP 6: Predicting the values of sales for the data given in the file Test.csv"
   ]
  },
  {
   "cell_type": "code",
   "execution_count": 64,
   "metadata": {
    "execution": {
     "iopub.execute_input": "2023-01-18T09:04:29.910348Z",
     "iopub.status.busy": "2023-01-18T09:04:29.909616Z",
     "iopub.status.idle": "2023-01-18T09:04:29.929710Z",
     "shell.execute_reply": "2023-01-18T09:04:29.928562Z",
     "shell.execute_reply.started": "2023-01-18T09:04:29.910297Z"
    }
   },
   "outputs": [
    {
     "data": {
      "text/html": [
       "<div>\n",
       "<style scoped>\n",
       "    .dataframe tbody tr th:only-of-type {\n",
       "        vertical-align: middle;\n",
       "    }\n",
       "\n",
       "    .dataframe tbody tr th {\n",
       "        vertical-align: top;\n",
       "    }\n",
       "\n",
       "    .dataframe thead th {\n",
       "        text-align: right;\n",
       "    }\n",
       "</style>\n",
       "<table border=\"1\" class=\"dataframe\">\n",
       "  <thead>\n",
       "    <tr style=\"text-align: right;\">\n",
       "      <th></th>\n",
       "      <th>Item_Identifier</th>\n",
       "      <th>Item_Weight</th>\n",
       "      <th>Item_Fat_Content</th>\n",
       "      <th>Item_Visibility</th>\n",
       "      <th>Item_Type</th>\n",
       "      <th>Item_MRP</th>\n",
       "      <th>Outlet_Identifier</th>\n",
       "      <th>Outlet_Size</th>\n",
       "      <th>Outlet_Location_Type</th>\n",
       "      <th>Outlet_Type</th>\n",
       "      <th>Item_Outlet_Sales</th>\n",
       "      <th>Outlet_Year</th>\n",
       "    </tr>\n",
       "  </thead>\n",
       "  <tbody>\n",
       "    <tr>\n",
       "      <th>8523</th>\n",
       "      <td>9</td>\n",
       "      <td>20.750</td>\n",
       "      <td>9185</td>\n",
       "      <td>0.007565</td>\n",
       "      <td>1989</td>\n",
       "      <td>107.8622</td>\n",
       "      <td>1550</td>\n",
       "      <td>4655</td>\n",
       "      <td>3980</td>\n",
       "      <td>9294</td>\n",
       "      <td>NaN</td>\n",
       "      <td>21</td>\n",
       "    </tr>\n",
       "    <tr>\n",
       "      <th>8524</th>\n",
       "      <td>9</td>\n",
       "      <td>8.300</td>\n",
       "      <td>5019</td>\n",
       "      <td>0.038428</td>\n",
       "      <td>1136</td>\n",
       "      <td>87.3198</td>\n",
       "      <td>1543</td>\n",
       "      <td>7996</td>\n",
       "      <td>4641</td>\n",
       "      <td>9294</td>\n",
       "      <td>NaN</td>\n",
       "      <td>13</td>\n",
       "    </tr>\n",
       "    <tr>\n",
       "      <th>8525</th>\n",
       "      <td>9</td>\n",
       "      <td>14.600</td>\n",
       "      <td>9185</td>\n",
       "      <td>0.099575</td>\n",
       "      <td>280</td>\n",
       "      <td>241.7538</td>\n",
       "      <td>925</td>\n",
       "      <td>7996</td>\n",
       "      <td>5583</td>\n",
       "      <td>1805</td>\n",
       "      <td>NaN</td>\n",
       "      <td>22</td>\n",
       "    </tr>\n",
       "    <tr>\n",
       "      <th>8526</th>\n",
       "      <td>9</td>\n",
       "      <td>7.315</td>\n",
       "      <td>9185</td>\n",
       "      <td>0.015388</td>\n",
       "      <td>1989</td>\n",
       "      <td>155.0340</td>\n",
       "      <td>1543</td>\n",
       "      <td>7996</td>\n",
       "      <td>4641</td>\n",
       "      <td>9294</td>\n",
       "      <td>NaN</td>\n",
       "      <td>13</td>\n",
       "    </tr>\n",
       "    <tr>\n",
       "      <th>8527</th>\n",
       "      <td>9</td>\n",
       "      <td>13.600</td>\n",
       "      <td>5019</td>\n",
       "      <td>0.118599</td>\n",
       "      <td>1136</td>\n",
       "      <td>234.2300</td>\n",
       "      <td>1559</td>\n",
       "      <td>4655</td>\n",
       "      <td>5583</td>\n",
       "      <td>1559</td>\n",
       "      <td>NaN</td>\n",
       "      <td>35</td>\n",
       "    </tr>\n",
       "  </tbody>\n",
       "</table>\n",
       "</div>"
      ],
      "text/plain": [
       "      Item_Identifier  Item_Weight  Item_Fat_Content  Item_Visibility  \\\n",
       "8523                9       20.750              9185         0.007565   \n",
       "8524                9        8.300              5019         0.038428   \n",
       "8525                9       14.600              9185         0.099575   \n",
       "8526                9        7.315              9185         0.015388   \n",
       "8527                9       13.600              5019         0.118599   \n",
       "\n",
       "      Item_Type  Item_MRP  Outlet_Identifier  Outlet_Size  \\\n",
       "8523       1989  107.8622               1550         4655   \n",
       "8524       1136   87.3198               1543         7996   \n",
       "8525        280  241.7538                925         7996   \n",
       "8526       1989  155.0340               1543         7996   \n",
       "8527       1136  234.2300               1559         4655   \n",
       "\n",
       "      Outlet_Location_Type  Outlet_Type  Item_Outlet_Sales  Outlet_Year  \n",
       "8523                  3980         9294                NaN           21  \n",
       "8524                  4641         9294                NaN           13  \n",
       "8525                  5583         1805                NaN           22  \n",
       "8526                  4641         9294                NaN           13  \n",
       "8527                  5583         1559                NaN           35  "
      ]
     },
     "execution_count": 64,
     "metadata": {},
     "output_type": "execute_result"
    }
   ],
   "source": [
    "test.head()"
   ]
  },
  {
   "cell_type": "code",
   "execution_count": 65,
   "metadata": {
    "execution": {
     "iopub.execute_input": "2023-01-18T09:04:29.931732Z",
     "iopub.status.busy": "2023-01-18T09:04:29.931141Z",
     "iopub.status.idle": "2023-01-18T09:04:29.941725Z",
     "shell.execute_reply": "2023-01-18T09:04:29.940653Z",
     "shell.execute_reply.started": "2023-01-18T09:04:29.931684Z"
    }
   },
   "outputs": [],
   "source": [
    "test= test.drop([\"Item_Outlet_Sales\"],axis=1)\n",
    "test_= test.drop(['Item_Identifier','Item_Weight', 'Item_Fat_Content', 'Item_Type', 'Outlet_Location_Type'],axis=1)"
   ]
  },
  {
   "cell_type": "code",
   "execution_count": 66,
   "metadata": {
    "execution": {
     "iopub.execute_input": "2023-01-18T09:04:29.945238Z",
     "iopub.status.busy": "2023-01-18T09:04:29.944266Z",
     "iopub.status.idle": "2023-01-18T09:04:29.961345Z",
     "shell.execute_reply": "2023-01-18T09:04:29.960113Z",
     "shell.execute_reply.started": "2023-01-18T09:04:29.945184Z"
    }
   },
   "outputs": [
    {
     "data": {
      "text/html": [
       "<div>\n",
       "<style scoped>\n",
       "    .dataframe tbody tr th:only-of-type {\n",
       "        vertical-align: middle;\n",
       "    }\n",
       "\n",
       "    .dataframe tbody tr th {\n",
       "        vertical-align: top;\n",
       "    }\n",
       "\n",
       "    .dataframe thead th {\n",
       "        text-align: right;\n",
       "    }\n",
       "</style>\n",
       "<table border=\"1\" class=\"dataframe\">\n",
       "  <thead>\n",
       "    <tr style=\"text-align: right;\">\n",
       "      <th></th>\n",
       "      <th>Item_Visibility</th>\n",
       "      <th>Item_MRP</th>\n",
       "      <th>Outlet_Identifier</th>\n",
       "      <th>Outlet_Size</th>\n",
       "      <th>Outlet_Type</th>\n",
       "      <th>Outlet_Year</th>\n",
       "    </tr>\n",
       "  </thead>\n",
       "  <tbody>\n",
       "    <tr>\n",
       "      <th>8523</th>\n",
       "      <td>0.007565</td>\n",
       "      <td>107.8622</td>\n",
       "      <td>1550</td>\n",
       "      <td>4655</td>\n",
       "      <td>9294</td>\n",
       "      <td>21</td>\n",
       "    </tr>\n",
       "    <tr>\n",
       "      <th>8524</th>\n",
       "      <td>0.038428</td>\n",
       "      <td>87.3198</td>\n",
       "      <td>1543</td>\n",
       "      <td>7996</td>\n",
       "      <td>9294</td>\n",
       "      <td>13</td>\n",
       "    </tr>\n",
       "    <tr>\n",
       "      <th>8525</th>\n",
       "      <td>0.099575</td>\n",
       "      <td>241.7538</td>\n",
       "      <td>925</td>\n",
       "      <td>7996</td>\n",
       "      <td>1805</td>\n",
       "      <td>22</td>\n",
       "    </tr>\n",
       "    <tr>\n",
       "      <th>8526</th>\n",
       "      <td>0.015388</td>\n",
       "      <td>155.0340</td>\n",
       "      <td>1543</td>\n",
       "      <td>7996</td>\n",
       "      <td>9294</td>\n",
       "      <td>13</td>\n",
       "    </tr>\n",
       "    <tr>\n",
       "      <th>8527</th>\n",
       "      <td>0.118599</td>\n",
       "      <td>234.2300</td>\n",
       "      <td>1559</td>\n",
       "      <td>4655</td>\n",
       "      <td>1559</td>\n",
       "      <td>35</td>\n",
       "    </tr>\n",
       "  </tbody>\n",
       "</table>\n",
       "</div>"
      ],
      "text/plain": [
       "      Item_Visibility  Item_MRP  Outlet_Identifier  Outlet_Size  Outlet_Type  \\\n",
       "8523         0.007565  107.8622               1550         4655         9294   \n",
       "8524         0.038428   87.3198               1543         7996         9294   \n",
       "8525         0.099575  241.7538                925         7996         1805   \n",
       "8526         0.015388  155.0340               1543         7996         9294   \n",
       "8527         0.118599  234.2300               1559         4655         1559   \n",
       "\n",
       "      Outlet_Year  \n",
       "8523           21  \n",
       "8524           13  \n",
       "8525           22  \n",
       "8526           13  \n",
       "8527           35  "
      ]
     },
     "execution_count": 66,
     "metadata": {},
     "output_type": "execute_result"
    }
   ],
   "source": [
    "test_.head()"
   ]
  },
  {
   "cell_type": "markdown",
   "metadata": {},
   "source": [
    "# Normalizing the Test dataset values"
   ]
  },
  {
   "cell_type": "code",
   "execution_count": 67,
   "metadata": {
    "execution": {
     "iopub.execute_input": "2023-01-18T09:04:29.965335Z",
     "iopub.status.busy": "2023-01-18T09:04:29.964792Z",
     "iopub.status.idle": "2023-01-18T09:04:29.978917Z",
     "shell.execute_reply": "2023-01-18T09:04:29.978038Z",
     "shell.execute_reply.started": "2023-01-18T09:04:29.965287Z"
    }
   },
   "outputs": [
    {
     "data": {
      "text/plain": [
       "Item_Visibility      1.307908\n",
       "Item_MRP             0.136182\n",
       "Outlet_Identifier   -2.244334\n",
       "Outlet_Size         -0.803264\n",
       "Outlet_Type         -0.650193\n",
       "Outlet_Year          0.396306\n",
       "dtype: float64"
      ]
     },
     "execution_count": 67,
     "metadata": {},
     "output_type": "execute_result"
    }
   ],
   "source": [
    "test_.skew()"
   ]
  },
  {
   "cell_type": "code",
   "execution_count": 68,
   "metadata": {
    "execution": {
     "iopub.execute_input": "2023-01-18T09:04:30.009171Z",
     "iopub.status.busy": "2023-01-18T09:04:29.980139Z",
     "iopub.status.idle": "2023-01-18T09:04:30.021176Z",
     "shell.execute_reply": "2023-01-18T09:04:30.020248Z",
     "shell.execute_reply.started": "2023-01-18T09:04:30.009097Z"
    }
   },
   "outputs": [],
   "source": [
    "for i in test_.columns:\n",
    "    test_[i] =np.log(test_[i])"
   ]
  },
  {
   "cell_type": "code",
   "execution_count": 69,
   "metadata": {
    "execution": {
     "iopub.execute_input": "2023-01-18T09:04:30.024044Z",
     "iopub.status.busy": "2023-01-18T09:04:30.022500Z",
     "iopub.status.idle": "2023-01-18T09:04:31.437441Z",
     "shell.execute_reply": "2023-01-18T09:04:31.436359Z",
     "shell.execute_reply.started": "2023-01-18T09:04:30.023990Z"
    }
   },
   "outputs": [
    {
     "data": {
      "text/plain": [
       "<matplotlib.axes._subplots.AxesSubplot at 0x7f53afadd510>"
      ]
     },
     "execution_count": 69,
     "metadata": {},
     "output_type": "execute_result"
    },
    {
     "data": {
      "image/png": "[encoded data removed]",
      "text/plain": [
       "<Figure size 1080x1080 with 6 Axes>"
      ]
     },
     "metadata": {
      "needs_background": "light"
     },
     "output_type": "display_data"
    }
   ],
   "source": [
    "fig, ax = plt.subplots(2,3,figsize = (15,15))\n",
    "sns.distplot(test_[\"Item_Visibility\"], kde =True, ax=ax[0,0], color = \"red\")\n",
    "sns.distplot(test_[\"Item_MRP\"], kde =True, ax=ax[0,1], color = \"blue\")\n",
    "sns.distplot(test_[\"Outlet_Identifier\"], kde =True, ax=ax[0,2], color = \"orange\")\n",
    "sns.distplot(test_[\"Outlet_Size\"], kde =True, ax=ax[1,0], color = \"magenta\")\n",
    "sns.distplot(test_[\"Outlet_Type\"], kde =True, ax=ax[1,1], color = \"black\")\n",
    "sns.distplot(test_[\"Outlet_Year\"], kde =True, ax=ax[1,2])"
   ]
  },
  {
   "cell_type": "code",
   "execution_count": 70,
   "metadata": {
    "execution": {
     "iopub.execute_input": "2023-01-18T09:04:31.439867Z",
     "iopub.status.busy": "2023-01-18T09:04:31.439151Z",
     "iopub.status.idle": "2023-01-18T09:04:31.457698Z",
     "shell.execute_reply": "2023-01-18T09:04:31.456554Z",
     "shell.execute_reply.started": "2023-01-18T09:04:31.439785Z"
    }
   },
   "outputs": [
    {
     "data": {
      "text/html": [
       "<div>\n",
       "<style scoped>\n",
       "    .dataframe tbody tr th:only-of-type {\n",
       "        vertical-align: middle;\n",
       "    }\n",
       "\n",
       "    .dataframe tbody tr th {\n",
       "        vertical-align: top;\n",
       "    }\n",
       "\n",
       "    .dataframe thead th {\n",
       "        text-align: right;\n",
       "    }\n",
       "</style>\n",
       "<table border=\"1\" class=\"dataframe\">\n",
       "  <thead>\n",
       "    <tr style=\"text-align: right;\">\n",
       "      <th></th>\n",
       "      <th>Item_Visibility</th>\n",
       "      <th>Item_MRP</th>\n",
       "      <th>Outlet_Identifier</th>\n",
       "      <th>Outlet_Size</th>\n",
       "      <th>Outlet_Type</th>\n",
       "      <th>Outlet_Year</th>\n",
       "    </tr>\n",
       "  </thead>\n",
       "  <tbody>\n",
       "    <tr>\n",
       "      <th>8523</th>\n",
       "      <td>-4.884245</td>\n",
       "      <td>4.680854</td>\n",
       "      <td>7.346010</td>\n",
       "      <td>8.445697</td>\n",
       "      <td>9.137124</td>\n",
       "      <td>3.044522</td>\n",
       "    </tr>\n",
       "    <tr>\n",
       "      <th>8524</th>\n",
       "      <td>-3.258977</td>\n",
       "      <td>4.469577</td>\n",
       "      <td>7.341484</td>\n",
       "      <td>8.986697</td>\n",
       "      <td>9.137124</td>\n",
       "      <td>2.564949</td>\n",
       "    </tr>\n",
       "    <tr>\n",
       "      <th>8525</th>\n",
       "      <td>-2.306845</td>\n",
       "      <td>5.487920</td>\n",
       "      <td>6.829794</td>\n",
       "      <td>8.986697</td>\n",
       "      <td>7.498316</td>\n",
       "      <td>3.091042</td>\n",
       "    </tr>\n",
       "    <tr>\n",
       "      <th>8526</th>\n",
       "      <td>-4.174142</td>\n",
       "      <td>5.043644</td>\n",
       "      <td>7.341484</td>\n",
       "      <td>8.986697</td>\n",
       "      <td>9.137124</td>\n",
       "      <td>2.564949</td>\n",
       "    </tr>\n",
       "    <tr>\n",
       "      <th>8527</th>\n",
       "      <td>-2.132005</td>\n",
       "      <td>5.456304</td>\n",
       "      <td>7.351800</td>\n",
       "      <td>8.445697</td>\n",
       "      <td>7.351800</td>\n",
       "      <td>3.555348</td>\n",
       "    </tr>\n",
       "  </tbody>\n",
       "</table>\n",
       "</div>"
      ],
      "text/plain": [
       "      Item_Visibility  Item_MRP  Outlet_Identifier  Outlet_Size  Outlet_Type  \\\n",
       "8523        -4.884245  4.680854           7.346010     8.445697     9.137124   \n",
       "8524        -3.258977  4.469577           7.341484     8.986697     9.137124   \n",
       "8525        -2.306845  5.487920           6.829794     8.986697     7.498316   \n",
       "8526        -4.174142  5.043644           7.341484     8.986697     9.137124   \n",
       "8527        -2.132005  5.456304           7.351800     8.445697     7.351800   \n",
       "\n",
       "      Outlet_Year  \n",
       "8523     3.044522  \n",
       "8524     2.564949  \n",
       "8525     3.091042  \n",
       "8526     2.564949  \n",
       "8527     3.555348  "
      ]
     },
     "execution_count": 70,
     "metadata": {},
     "output_type": "execute_result"
    }
   ],
   "source": [
    "test_.head()"
   ]
  },
  {
   "cell_type": "markdown",
   "metadata": {},
   "source": [
    "# Applying the Linear Regression Model to the test dataset"
   ]
  },
  {
   "cell_type": "code",
   "execution_count": 71,
   "metadata": {
    "execution": {
     "iopub.execute_input": "2023-01-18T09:04:31.462151Z",
     "iopub.status.busy": "2023-01-18T09:04:31.461768Z",
     "iopub.status.idle": "2023-01-18T09:04:31.470347Z",
     "shell.execute_reply": "2023-01-18T09:04:31.469028Z",
     "shell.execute_reply.started": "2023-01-18T09:04:31.462113Z"
    }
   },
   "outputs": [],
   "source": [
    "item_outsale_pred = reg.predict(test_)"
   ]
  },
  {
   "cell_type": "code",
   "execution_count": 72,
   "metadata": {
    "execution": {
     "iopub.execute_input": "2023-01-18T09:04:31.472788Z",
     "iopub.status.busy": "2023-01-18T09:04:31.472251Z",
     "iopub.status.idle": "2023-01-18T09:04:31.484478Z",
     "shell.execute_reply": "2023-01-18T09:04:31.483372Z",
     "shell.execute_reply.started": "2023-01-18T09:04:31.472737Z"
    }
   },
   "outputs": [
    {
     "data": {
      "text/plain": [
       "array([7.35563223, 7.02460759, 6.24244119, ..., 7.48852756, 7.93722829,\n",
       "       7.08415617])"
      ]
     },
     "execution_count": 72,
     "metadata": {},
     "output_type": "execute_result"
    }
   ],
   "source": [
    "item_outsale_pred"
   ]
  },
  {
   "cell_type": "code",
   "execution_count": 73,
   "metadata": {
    "execution": {
     "iopub.execute_input": "2023-01-18T09:04:31.486673Z",
     "iopub.status.busy": "2023-01-18T09:04:31.486103Z",
     "iopub.status.idle": "2023-01-18T09:04:31.516375Z",
     "shell.execute_reply": "2023-01-18T09:04:31.515175Z",
     "shell.execute_reply.started": "2023-01-18T09:04:31.486637Z"
    }
   },
   "outputs": [],
   "source": [
    "#Performing inverse transformation\n",
    "actual_item_outsale = np.exp(item_outsale_pred+1)"
   ]
  },
  {
   "cell_type": "code",
   "execution_count": 74,
   "metadata": {
    "execution": {
     "iopub.execute_input": "2023-01-18T09:04:31.519321Z",
     "iopub.status.busy": "2023-01-18T09:04:31.518554Z",
     "iopub.status.idle": "2023-01-18T09:04:31.530254Z",
     "shell.execute_reply": "2023-01-18T09:04:31.529026Z",
     "shell.execute_reply.started": "2023-01-18T09:04:31.519230Z"
    }
   },
   "outputs": [
    {
     "data": {
      "text/plain": [
       "array([4254.07330943, 3055.22216457, 1397.50137008, ..., 4858.70663984,\n",
       "       7610.07485536, 3242.68241806])"
      ]
     },
     "execution_count": 74,
     "metadata": {},
     "output_type": "execute_result"
    }
   ],
   "source": [
    "actual_item_outsale"
   ]
  },
  {
   "cell_type": "code",
   "execution_count": 75,
   "metadata": {
    "execution": {
     "iopub.execute_input": "2023-01-18T09:04:31.532931Z",
     "iopub.status.busy": "2023-01-18T09:04:31.532125Z",
     "iopub.status.idle": "2023-01-18T09:04:31.560527Z",
     "shell.execute_reply": "2023-01-18T09:04:31.559629Z",
     "shell.execute_reply.started": "2023-01-18T09:04:31.532812Z"
    }
   },
   "outputs": [],
   "source": [
    "#ADDING THE PREDICTED ITEM_OUTLET_SALE COLUMNS TO TEST DATA\n",
    "test = pd.read_csv(\"../input/bigmart-dataset/Test.csv\")\n",
    "test[\"Item_Outlet_Sales\"] = actual_item_outsale"
   ]
  },
  {
   "cell_type": "code",
   "execution_count": 76,
   "metadata": {
    "execution": {
     "iopub.execute_input": "2023-01-18T09:04:31.563017Z",
     "iopub.status.busy": "2023-01-18T09:04:31.562634Z",
     "iopub.status.idle": "2023-01-18T09:04:31.619115Z",
     "shell.execute_reply": "2023-01-18T09:04:31.617891Z",
     "shell.execute_reply.started": "2023-01-18T09:04:31.562971Z"
    }
   },
   "outputs": [
    {
     "data": {
      "text/html": [
       "<div>\n",
       "<style scoped>\n",
       "    .dataframe tbody tr th:only-of-type {\n",
       "        vertical-align: middle;\n",
       "    }\n",
       "\n",
       "    .dataframe tbody tr th {\n",
       "        vertical-align: top;\n",
       "    }\n",
       "\n",
       "    .dataframe thead th {\n",
       "        text-align: right;\n",
       "    }\n",
       "</style>\n",
       "<table border=\"1\" class=\"dataframe\">\n",
       "  <thead>\n",
       "    <tr style=\"text-align: right;\">\n",
       "      <th></th>\n",
       "      <th>Item_Identifier</th>\n",
       "      <th>Item_Weight</th>\n",
       "      <th>Item_Fat_Content</th>\n",
       "      <th>Item_Visibility</th>\n",
       "      <th>Item_Type</th>\n",
       "      <th>Item_MRP</th>\n",
       "      <th>Outlet_Identifier</th>\n",
       "      <th>Outlet_Establishment_Year</th>\n",
       "      <th>Outlet_Size</th>\n",
       "      <th>Outlet_Location_Type</th>\n",
       "      <th>Outlet_Type</th>\n",
       "      <th>Item_Outlet_Sales</th>\n",
       "    </tr>\n",
       "  </thead>\n",
       "  <tbody>\n",
       "    <tr>\n",
       "      <th>0</th>\n",
       "      <td>FDW58</td>\n",
       "      <td>20.750</td>\n",
       "      <td>Low Fat</td>\n",
       "      <td>0.007565</td>\n",
       "      <td>Snack Foods</td>\n",
       "      <td>107.8622</td>\n",
       "      <td>OUT049</td>\n",
       "      <td>1999</td>\n",
       "      <td>Medium</td>\n",
       "      <td>Tier 1</td>\n",
       "      <td>Supermarket Type1</td>\n",
       "      <td>4254.073309</td>\n",
       "    </tr>\n",
       "    <tr>\n",
       "      <th>1</th>\n",
       "      <td>FDW14</td>\n",
       "      <td>8.300</td>\n",
       "      <td>reg</td>\n",
       "      <td>0.038428</td>\n",
       "      <td>Dairy</td>\n",
       "      <td>87.3198</td>\n",
       "      <td>OUT017</td>\n",
       "      <td>2007</td>\n",
       "      <td>NaN</td>\n",
       "      <td>Tier 2</td>\n",
       "      <td>Supermarket Type1</td>\n",
       "      <td>3055.222165</td>\n",
       "    </tr>\n",
       "    <tr>\n",
       "      <th>2</th>\n",
       "      <td>NCN55</td>\n",
       "      <td>14.600</td>\n",
       "      <td>Low Fat</td>\n",
       "      <td>0.099575</td>\n",
       "      <td>Others</td>\n",
       "      <td>241.7538</td>\n",
       "      <td>OUT010</td>\n",
       "      <td>1998</td>\n",
       "      <td>NaN</td>\n",
       "      <td>Tier 3</td>\n",
       "      <td>Grocery Store</td>\n",
       "      <td>1397.501370</td>\n",
       "    </tr>\n",
       "    <tr>\n",
       "      <th>3</th>\n",
       "      <td>FDQ58</td>\n",
       "      <td>7.315</td>\n",
       "      <td>Low Fat</td>\n",
       "      <td>0.015388</td>\n",
       "      <td>Snack Foods</td>\n",
       "      <td>155.0340</td>\n",
       "      <td>OUT017</td>\n",
       "      <td>2007</td>\n",
       "      <td>NaN</td>\n",
       "      <td>Tier 2</td>\n",
       "      <td>Supermarket Type1</td>\n",
       "      <td>5481.623853</td>\n",
       "    </tr>\n",
       "    <tr>\n",
       "      <th>4</th>\n",
       "      <td>FDY38</td>\n",
       "      <td>NaN</td>\n",
       "      <td>Regular</td>\n",
       "      <td>0.118599</td>\n",
       "      <td>Dairy</td>\n",
       "      <td>234.2300</td>\n",
       "      <td>OUT027</td>\n",
       "      <td>1985</td>\n",
       "      <td>Medium</td>\n",
       "      <td>Tier 3</td>\n",
       "      <td>Supermarket Type3</td>\n",
       "      <td>14559.921869</td>\n",
       "    </tr>\n",
       "    <tr>\n",
       "      <th>...</th>\n",
       "      <td>...</td>\n",
       "      <td>...</td>\n",
       "      <td>...</td>\n",
       "      <td>...</td>\n",
       "      <td>...</td>\n",
       "      <td>...</td>\n",
       "      <td>...</td>\n",
       "      <td>...</td>\n",
       "      <td>...</td>\n",
       "      <td>...</td>\n",
       "      <td>...</td>\n",
       "      <td>...</td>\n",
       "    </tr>\n",
       "    <tr>\n",
       "      <th>5676</th>\n",
       "      <td>FDB58</td>\n",
       "      <td>10.500</td>\n",
       "      <td>Regular</td>\n",
       "      <td>0.013496</td>\n",
       "      <td>Snack Foods</td>\n",
       "      <td>141.3154</td>\n",
       "      <td>OUT046</td>\n",
       "      <td>1997</td>\n",
       "      <td>Small</td>\n",
       "      <td>Tier 1</td>\n",
       "      <td>Supermarket Type1</td>\n",
       "      <td>6486.848411</td>\n",
       "    </tr>\n",
       "    <tr>\n",
       "      <th>5677</th>\n",
       "      <td>FDD47</td>\n",
       "      <td>7.600</td>\n",
       "      <td>Regular</td>\n",
       "      <td>0.142991</td>\n",
       "      <td>Starchy Foods</td>\n",
       "      <td>169.1448</td>\n",
       "      <td>OUT018</td>\n",
       "      <td>2009</td>\n",
       "      <td>Medium</td>\n",
       "      <td>Tier 3</td>\n",
       "      <td>Supermarket Type2</td>\n",
       "      <td>6168.860049</td>\n",
       "    </tr>\n",
       "    <tr>\n",
       "      <th>5678</th>\n",
       "      <td>NCO17</td>\n",
       "      <td>10.000</td>\n",
       "      <td>Low Fat</td>\n",
       "      <td>0.073529</td>\n",
       "      <td>Health and Hygiene</td>\n",
       "      <td>118.7440</td>\n",
       "      <td>OUT045</td>\n",
       "      <td>2002</td>\n",
       "      <td>NaN</td>\n",
       "      <td>Tier 2</td>\n",
       "      <td>Supermarket Type1</td>\n",
       "      <td>4858.706640</td>\n",
       "    </tr>\n",
       "    <tr>\n",
       "      <th>5679</th>\n",
       "      <td>FDJ26</td>\n",
       "      <td>15.300</td>\n",
       "      <td>Regular</td>\n",
       "      <td>0.000000</td>\n",
       "      <td>Canned</td>\n",
       "      <td>214.6218</td>\n",
       "      <td>OUT017</td>\n",
       "      <td>2007</td>\n",
       "      <td>NaN</td>\n",
       "      <td>Tier 2</td>\n",
       "      <td>Supermarket Type1</td>\n",
       "      <td>7610.074855</td>\n",
       "    </tr>\n",
       "    <tr>\n",
       "      <th>5680</th>\n",
       "      <td>FDU37</td>\n",
       "      <td>9.500</td>\n",
       "      <td>Regular</td>\n",
       "      <td>0.104720</td>\n",
       "      <td>Canned</td>\n",
       "      <td>79.7960</td>\n",
       "      <td>OUT045</td>\n",
       "      <td>2002</td>\n",
       "      <td>NaN</td>\n",
       "      <td>Tier 2</td>\n",
       "      <td>Supermarket Type1</td>\n",
       "      <td>3242.682418</td>\n",
       "    </tr>\n",
       "  </tbody>\n",
       "</table>\n",
       "<p>5681 rows × 12 columns</p>\n",
       "</div>"
      ],
      "text/plain": [
       "     Item_Identifier  Item_Weight Item_Fat_Content  Item_Visibility  \\\n",
       "0              FDW58       20.750          Low Fat         0.007565   \n",
       "1              FDW14        8.300              reg         0.038428   \n",
       "2              NCN55       14.600          Low Fat         0.099575   \n",
       "3              FDQ58        7.315          Low Fat         0.015388   \n",
       "4              FDY38          NaN          Regular         0.118599   \n",
       "...              ...          ...              ...              ...   \n",
       "5676           FDB58       10.500          Regular         0.013496   \n",
       "5677           FDD47        7.600          Regular         0.142991   \n",
       "5678           NCO17       10.000          Low Fat         0.073529   \n",
       "5679           FDJ26       15.300          Regular         0.000000   \n",
       "5680           FDU37        9.500          Regular         0.104720   \n",
       "\n",
       "               Item_Type  Item_MRP Outlet_Identifier  \\\n",
       "0            Snack Foods  107.8622            OUT049   \n",
       "1                  Dairy   87.3198            OUT017   \n",
       "2                 Others  241.7538            OUT010   \n",
       "3            Snack Foods  155.0340            OUT017   \n",
       "4                  Dairy  234.2300            OUT027   \n",
       "...                  ...       ...               ...   \n",
       "5676         Snack Foods  141.3154            OUT046   \n",
       "5677       Starchy Foods  169.1448            OUT018   \n",
       "5678  Health and Hygiene  118.7440            OUT045   \n",
       "5679              Canned  214.6218            OUT017   \n",
       "5680              Canned   79.7960            OUT045   \n",
       "\n",
       "      Outlet_Establishment_Year Outlet_Size Outlet_Location_Type  \\\n",
       "0                          1999      Medium               Tier 1   \n",
       "1                          2007         NaN               Tier 2   \n",
       "2                          1998         NaN               Tier 3   \n",
       "3                          2007         NaN               Tier 2   \n",
       "4                          1985      Medium               Tier 3   \n",
       "...                         ...         ...                  ...   \n",
       "5676                       1997       Small               Tier 1   \n",
       "5677                       2009      Medium               Tier 3   \n",
       "5678                       2002         NaN               Tier 2   \n",
       "5679                       2007         NaN               Tier 2   \n",
       "5680                       2002         NaN               Tier 2   \n",
       "\n",
       "            Outlet_Type  Item_Outlet_Sales  \n",
       "0     Supermarket Type1        4254.073309  \n",
       "1     Supermarket Type1        3055.222165  \n",
       "2         Grocery Store        1397.501370  \n",
       "3     Supermarket Type1        5481.623853  \n",
       "4     Supermarket Type3       14559.921869  \n",
       "...                 ...                ...  \n",
       "5676  Supermarket Type1        6486.848411  \n",
       "5677  Supermarket Type2        6168.860049  \n",
       "5678  Supermarket Type1        4858.706640  \n",
       "5679  Supermarket Type1        7610.074855  \n",
       "5680  Supermarket Type1        3242.682418  \n",
       "\n",
       "[5681 rows x 12 columns]"
      ]
     },
     "execution_count": 76,
     "metadata": {},
     "output_type": "execute_result"
    }
   ],
   "source": [
    "test"
   ]
  },
  {
   "cell_type": "markdown",
   "metadata": {},
   "source": [
    "# Saving the predicted values to the test dataset as testLR.csv"
   ]
  },
  {
   "cell_type": "code",
   "execution_count": 77,
   "metadata": {
    "execution": {
     "iopub.execute_input": "2023-01-18T09:04:31.621384Z",
     "iopub.status.busy": "2023-01-18T09:04:31.621048Z",
     "iopub.status.idle": "2023-01-18T09:04:31.683335Z",
     "shell.execute_reply": "2023-01-18T09:04:31.682252Z",
     "shell.execute_reply.started": "2023-01-18T09:04:31.621349Z"
    }
   },
   "outputs": [],
   "source": [
    "test.to_csv('testLR.csv')"
   ]
  },
  {
   "cell_type": "markdown",
   "metadata": {},
   "source": [
    "# Analysing the Dataset\n",
    "<b>\n",
    "Item_Identifier: Code given to items\n",
    "        \n",
    "Item_Weight: Weight of an item\n",
    "    \n",
    "Item_Fat_Content: Fat content of the item like low, high etc\n",
    "    \n",
    "Item_Visibility: A continuous value indicating the visibility of the item for a customer\n",
    "    \n",
    "Item_Type: Type of the item like dairy, vegetables etc\n",
    "    \n",
    "Item_MRP: Maximum retail price of the item\n",
    "    \n",
    "Outlet_Identifier: Code given to outlets\n",
    "    \n",
    "Outlet_Establishment_Year : Year of establishment of an outlet\n",
    "    \n",
    "Outlet_Size: Size of an outlet like medium, high etc.\n",
    "    \n",
    "Outlet_Location_Type: Location of the outlet in a city like Tier1, 2 etc.\n",
    "    \n",
    "Outlet_Type: Type of the outlet like supermarket, grocery shop etc.\n",
    "    \n",
    "Item_Outlet_Sales: Sale value of an item in outlet. It is a target variable.\n",
    "    \n",
    "\n",
    "# MY ANALYSIS:\n",
    "\n",
    "The heatmap described that Item_Identifier, Item_Weight, item_fat_content, Item_Type, Outlet_Location_Type have less correlation with the Item_Outlet_Sales (Target Variable). Therefore, We removed these predictors from the model.\n",
    "\n",
    "The Predictor variables (X):'Item_Visibility', 'Item_MRP', 'Outlet_Identifier', 'Outlet_Size', 'Outlet_Type','Outlet_Year'.\n",
    "    \n",
    "The Target variavle (Y)    : Item_Outlet_Sales </b>\n",
    "\n",
    "# Lets plot various graphs to get an insight on the dataset"
   ]
  },
  {
   "cell_type": "code",
   "execution_count": 78,
   "metadata": {
    "execution": {
     "iopub.execute_input": "2023-01-18T09:04:31.685540Z",
     "iopub.status.busy": "2023-01-18T09:04:31.684945Z",
     "iopub.status.idle": "2023-01-18T09:04:31.771227Z",
     "shell.execute_reply": "2023-01-18T09:04:31.770122Z",
     "shell.execute_reply.started": "2023-01-18T09:04:31.685492Z"
    }
   },
   "outputs": [
    {
     "data": {
      "text/html": [
       "<div>\n",
       "<style scoped>\n",
       "    .dataframe tbody tr th:only-of-type {\n",
       "        vertical-align: middle;\n",
       "    }\n",
       "\n",
       "    .dataframe tbody tr th {\n",
       "        vertical-align: top;\n",
       "    }\n",
       "\n",
       "    .dataframe thead th {\n",
       "        text-align: right;\n",
       "    }\n",
       "</style>\n",
       "<table border=\"1\" class=\"dataframe\">\n",
       "  <thead>\n",
       "    <tr style=\"text-align: right;\">\n",
       "      <th></th>\n",
       "      <th>Unnamed: 0</th>\n",
       "      <th>Item_Identifier</th>\n",
       "      <th>Item_Weight</th>\n",
       "      <th>Item_Fat_Content</th>\n",
       "      <th>Item_Visibility</th>\n",
       "      <th>Item_Type</th>\n",
       "      <th>Item_MRP</th>\n",
       "      <th>Outlet_Identifier</th>\n",
       "      <th>Outlet_Size</th>\n",
       "      <th>Outlet_Location_Type</th>\n",
       "      <th>Outlet_Type</th>\n",
       "      <th>Item_Outlet_Sales</th>\n",
       "      <th>source</th>\n",
       "      <th>Outlet_Year</th>\n",
       "    </tr>\n",
       "  </thead>\n",
       "  <tbody>\n",
       "    <tr>\n",
       "      <th>0</th>\n",
       "      <td>0</td>\n",
       "      <td>FDA15</td>\n",
       "      <td>9.30</td>\n",
       "      <td>Low Fat</td>\n",
       "      <td>0.016047</td>\n",
       "      <td>Dairy</td>\n",
       "      <td>249.8092</td>\n",
       "      <td>OUT049</td>\n",
       "      <td>Medium</td>\n",
       "      <td>Tier 1</td>\n",
       "      <td>Supermarket Type1</td>\n",
       "      <td>3735.1380</td>\n",
       "      <td>train</td>\n",
       "      <td>21</td>\n",
       "    </tr>\n",
       "    <tr>\n",
       "      <th>1</th>\n",
       "      <td>1</td>\n",
       "      <td>DRC01</td>\n",
       "      <td>5.92</td>\n",
       "      <td>Regular</td>\n",
       "      <td>0.019278</td>\n",
       "      <td>Soft Drinks</td>\n",
       "      <td>48.2692</td>\n",
       "      <td>OUT018</td>\n",
       "      <td>Medium</td>\n",
       "      <td>Tier 3</td>\n",
       "      <td>Supermarket Type2</td>\n",
       "      <td>443.4228</td>\n",
       "      <td>train</td>\n",
       "      <td>11</td>\n",
       "    </tr>\n",
       "    <tr>\n",
       "      <th>2</th>\n",
       "      <td>2</td>\n",
       "      <td>FDN15</td>\n",
       "      <td>17.50</td>\n",
       "      <td>Low Fat</td>\n",
       "      <td>0.016760</td>\n",
       "      <td>Meat</td>\n",
       "      <td>141.6180</td>\n",
       "      <td>OUT049</td>\n",
       "      <td>Medium</td>\n",
       "      <td>Tier 1</td>\n",
       "      <td>Supermarket Type1</td>\n",
       "      <td>2097.2700</td>\n",
       "      <td>train</td>\n",
       "      <td>21</td>\n",
       "    </tr>\n",
       "    <tr>\n",
       "      <th>3</th>\n",
       "      <td>3</td>\n",
       "      <td>FDX07</td>\n",
       "      <td>19.20</td>\n",
       "      <td>Regular</td>\n",
       "      <td>0.000000</td>\n",
       "      <td>Fruits and Vegetables</td>\n",
       "      <td>182.0950</td>\n",
       "      <td>OUT010</td>\n",
       "      <td>Small</td>\n",
       "      <td>Tier 3</td>\n",
       "      <td>Grocery Store</td>\n",
       "      <td>732.3800</td>\n",
       "      <td>train</td>\n",
       "      <td>22</td>\n",
       "    </tr>\n",
       "    <tr>\n",
       "      <th>4</th>\n",
       "      <td>4</td>\n",
       "      <td>NCD19</td>\n",
       "      <td>8.93</td>\n",
       "      <td>Low Fat</td>\n",
       "      <td>0.000000</td>\n",
       "      <td>Household</td>\n",
       "      <td>53.8614</td>\n",
       "      <td>OUT013</td>\n",
       "      <td>High</td>\n",
       "      <td>Tier 3</td>\n",
       "      <td>Supermarket Type1</td>\n",
       "      <td>994.7052</td>\n",
       "      <td>train</td>\n",
       "      <td>33</td>\n",
       "    </tr>\n",
       "  </tbody>\n",
       "</table>\n",
       "</div>"
      ],
      "text/plain": [
       "   Unnamed: 0 Item_Identifier  Item_Weight Item_Fat_Content  Item_Visibility  \\\n",
       "0           0           FDA15         9.30          Low Fat         0.016047   \n",
       "1           1           DRC01         5.92          Regular         0.019278   \n",
       "2           2           FDN15        17.50          Low Fat         0.016760   \n",
       "3           3           FDX07        19.20          Regular         0.000000   \n",
       "4           4           NCD19         8.93          Low Fat         0.000000   \n",
       "\n",
       "               Item_Type  Item_MRP Outlet_Identifier Outlet_Size  \\\n",
       "0                  Dairy  249.8092            OUT049      Medium   \n",
       "1            Soft Drinks   48.2692            OUT018      Medium   \n",
       "2                   Meat  141.6180            OUT049      Medium   \n",
       "3  Fruits and Vegetables  182.0950            OUT010       Small   \n",
       "4              Household   53.8614            OUT013        High   \n",
       "\n",
       "  Outlet_Location_Type        Outlet_Type  Item_Outlet_Sales source  \\\n",
       "0               Tier 1  Supermarket Type1          3735.1380  train   \n",
       "1               Tier 3  Supermarket Type2           443.4228  train   \n",
       "2               Tier 1  Supermarket Type1          2097.2700  train   \n",
       "3               Tier 3      Grocery Store           732.3800  train   \n",
       "4               Tier 3  Supermarket Type1           994.7052  train   \n",
       "\n",
       "   Outlet_Year  \n",
       "0           21  \n",
       "1           11  \n",
       "2           21  \n",
       "3           22  \n",
       "4           33  "
      ]
     },
     "execution_count": 78,
     "metadata": {},
     "output_type": "execute_result"
    }
   ],
   "source": [
    "vis = pd.read_csv(\"insight.csv\")\n",
    "vis.head()"
   ]
  },
  {
   "cell_type": "code",
   "execution_count": 79,
   "metadata": {
    "execution": {
     "iopub.execute_input": "2023-01-18T09:04:31.773596Z",
     "iopub.status.busy": "2023-01-18T09:04:31.773177Z",
     "iopub.status.idle": "2023-01-18T09:04:31.999291Z",
     "shell.execute_reply": "2023-01-18T09:04:31.998182Z",
     "shell.execute_reply.started": "2023-01-18T09:04:31.773548Z"
    }
   },
   "outputs": [
    {
     "data": {
      "text/plain": [
       "(array([0, 1, 2, 3]), <a list of 4 Text major ticklabel objects>)"
      ]
     },
     "execution_count": 79,
     "metadata": {},
     "output_type": "execute_result"
    },
    {
     "data": {
      "image/png": "[encoded data removed]",
      "text/plain": [
       "<Figure size 432x288 with 1 Axes>"
      ]
     },
     "metadata": {
      "needs_background": "light"
     },
     "output_type": "display_data"
    }
   ],
   "source": [
    "#FINDING FREQUENCY COUNT OF OUTLET TYPE\n",
    "sns.countplot(data = vis, x = \"Outlet_Type\",hue = \"Outlet_Size\")\n",
    "plt.xticks(rotation =90)"
   ]
  },
  {
   "cell_type": "code",
   "execution_count": 80,
   "metadata": {
    "execution": {
     "iopub.execute_input": "2023-01-18T09:04:32.001713Z",
     "iopub.status.busy": "2023-01-18T09:04:32.001054Z",
     "iopub.status.idle": "2023-01-18T09:04:32.515577Z",
     "shell.execute_reply": "2023-01-18T09:04:32.514718Z",
     "shell.execute_reply.started": "2023-01-18T09:04:32.001663Z"
    }
   },
   "outputs": [
    {
     "data": {
      "text/plain": [
       "<matplotlib.axes._subplots.AxesSubplot at 0x7f53af7d6c90>"
      ]
     },
     "execution_count": 80,
     "metadata": {},
     "output_type": "execute_result"
    },
    {
     "data": {
      "image/png": "[encoded data removed]",
      "text/plain": [
       "<Figure size 720x360 with 1 Axes>"
      ]
     },
     "metadata": {
      "needs_background": "light"
     },
     "output_type": "display_data"
    }
   ],
   "source": [
    "# Relation between Outlet_Identifier and Item_Outlet_Sales\n",
    "import matplotlib.pyplot as plt\n",
    "plt.figure(figsize = (10,5))\n",
    "sns.barplot(data = vis, x = \"Outlet_Identifier\", y= \"Item_Outlet_Sales\")"
   ]
  },
  {
   "cell_type": "code",
   "execution_count": 81,
   "metadata": {
    "execution": {
     "iopub.execute_input": "2023-01-18T09:04:32.517570Z",
     "iopub.status.busy": "2023-01-18T09:04:32.516960Z",
     "iopub.status.idle": "2023-01-18T09:04:32.816974Z",
     "shell.execute_reply": "2023-01-18T09:04:32.815897Z",
     "shell.execute_reply.started": "2023-01-18T09:04:32.517521Z"
    }
   },
   "outputs": [
    {
     "data": {
      "text/plain": [
       "<matplotlib.axes._subplots.AxesSubplot at 0x7f53af60fc10>"
      ]
     },
     "execution_count": 81,
     "metadata": {},
     "output_type": "execute_result"
    },
    {
     "data": {
      "image/png": "[encoded data removed]",
      "text/plain": [
       "<Figure size 720x360 with 1 Axes>"
      ]
     },
     "metadata": {
      "needs_background": "light"
     },
     "output_type": "display_data"
    }
   ],
   "source": [
    "plt.figure(figsize = (10,5))\n",
    "sns.barplot(data = vis, x = \"Outlet_Size\", y= \"Item_Outlet_Sales\")"
   ]
  },
  {
   "cell_type": "code",
   "execution_count": 82,
   "metadata": {
    "execution": {
     "iopub.execute_input": "2023-01-18T09:04:32.818998Z",
     "iopub.status.busy": "2023-01-18T09:04:32.818385Z",
     "iopub.status.idle": "2023-01-18T09:04:33.141277Z",
     "shell.execute_reply": "2023-01-18T09:04:33.140241Z",
     "shell.execute_reply.started": "2023-01-18T09:04:32.818947Z"
    }
   },
   "outputs": [
    {
     "data": {
      "text/plain": [
       "<matplotlib.axes._subplots.AxesSubplot at 0x7f53af60afd0>"
      ]
     },
     "execution_count": 82,
     "metadata": {},
     "output_type": "execute_result"
    },
    {
     "data": {
      "image/png": "[encoded data removed]",
      "text/plain": [
       "<Figure size 720x360 with 1 Axes>"
      ]
     },
     "metadata": {
      "needs_background": "light"
     },
     "output_type": "display_data"
    }
   ],
   "source": [
    "import matplotlib.pyplot as plt\n",
    "plt.figure(figsize = (10,5))\n",
    "sns.barplot(data = vis, x = \"Outlet_Type\", y= \"Item_Outlet_Sales\")"
   ]
  },
  {
   "cell_type": "code",
   "execution_count": 83,
   "metadata": {
    "execution": {
     "iopub.execute_input": "2023-01-18T09:04:33.143408Z",
     "iopub.status.busy": "2023-01-18T09:04:33.142714Z",
     "iopub.status.idle": "2023-01-18T09:04:33.436090Z",
     "shell.execute_reply": "2023-01-18T09:04:33.434978Z",
     "shell.execute_reply.started": "2023-01-18T09:04:33.143343Z"
    }
   },
   "outputs": [
    {
     "data": {
      "text/plain": [
       "<matplotlib.axes._subplots.AxesSubplot at 0x7f53af56be50>"
      ]
     },
     "execution_count": 83,
     "metadata": {},
     "output_type": "execute_result"
    },
    {
     "data": {
      "image/png": "[encoded data removed]",
      "text/plain": [
       "<Figure size 720x360 with 1 Axes>"
      ]
     },
     "metadata": {
      "needs_background": "light"
     },
     "output_type": "display_data"
    }
   ],
   "source": [
    "plt.figure(figsize = (10,5))\n",
    "sns.barplot(data = vis, x = \"Outlet_Location_Type\", y= \"Item_Outlet_Sales\")"
   ]
  },
  {
   "cell_type": "code",
   "execution_count": 84,
   "metadata": {
    "execution": {
     "iopub.execute_input": "2023-01-18T09:04:33.438173Z",
     "iopub.status.busy": "2023-01-18T09:04:33.437718Z",
     "iopub.status.idle": "2023-01-18T09:04:33.611780Z",
     "shell.execute_reply": "2023-01-18T09:04:33.610917Z",
     "shell.execute_reply.started": "2023-01-18T09:04:33.438126Z"
    }
   },
   "outputs": [
    {
     "data": {
      "text/plain": [
       "Text(0, 0.5, 'Mean of Item outlet sales')"
      ]
     },
     "execution_count": 84,
     "metadata": {},
     "output_type": "execute_result"
    },
    {
     "data": {
      "image/png": "[encoded data removed]",
      "text/plain": [
       "<Figure size 432x288 with 1 Axes>"
      ]
     },
     "metadata": {
      "needs_background": "light"
     },
     "output_type": "display_data"
    }
   ],
   "source": [
    "vis.groupby(\"Outlet_Year\")[\"Item_Outlet_Sales\"].mean().plot.bar()\n",
    "plt.ylabel(\"Mean of Item outlet sales\")"
   ]
  },
  {
   "cell_type": "code",
   "execution_count": 85,
   "metadata": {
    "execution": {
     "iopub.execute_input": "2023-01-18T09:04:33.613803Z",
     "iopub.status.busy": "2023-01-18T09:04:33.613180Z",
     "iopub.status.idle": "2023-01-18T09:04:33.835927Z",
     "shell.execute_reply": "2023-01-18T09:04:33.834560Z",
     "shell.execute_reply.started": "2023-01-18T09:04:33.613754Z"
    }
   },
   "outputs": [
    {
     "data": {
      "text/plain": [
       "Text(0, 0.5, 'Mean of Item outlet sales')"
      ]
     },
     "execution_count": 85,
     "metadata": {},
     "output_type": "execute_result"
    },
    {
     "data": {
      "image/png": "[encoded data removed]",
      "text/plain": [
       "<Figure size 432x288 with 1 Axes>"
      ]
     },
     "metadata": {
      "needs_background": "light"
     },
     "output_type": "display_data"
    }
   ],
   "source": [
    "#Understanding to item_type per year with respective to mean of each respective year item outlet sales\n",
    "vis.groupby(\"Item_Type\")[\"Item_Outlet_Sales\"].mean().plot.bar()\n",
    "plt.ylabel(\"Mean of Item outlet sales\")"
   ]
  },
  {
   "cell_type": "code",
   "execution_count": 86,
   "metadata": {
    "execution": {
     "iopub.execute_input": "2023-01-18T09:04:33.838320Z",
     "iopub.status.busy": "2023-01-18T09:04:33.837861Z",
     "iopub.status.idle": "2023-01-18T09:04:34.007017Z",
     "shell.execute_reply": "2023-01-18T09:04:34.006197Z",
     "shell.execute_reply.started": "2023-01-18T09:04:33.838273Z"
    }
   },
   "outputs": [
    {
     "data": {
      "text/plain": [
       "Text(0, 0.5, 'Mean of Item outlet sales')"
      ]
     },
     "execution_count": 86,
     "metadata": {},
     "output_type": "execute_result"
    },
    {
     "data": {
      "image/png": "[encoded data removed]",
      "text/plain": [
       "<Figure size 432x288 with 1 Axes>"
      ]
     },
     "metadata": {
      "needs_background": "light"
     },
     "output_type": "display_data"
    }
   ],
   "source": [
    "#Understanding to outlet_type per year with respective to mean of each respective year item outlet sales\n",
    "vis.groupby(\"Outlet_Type\")[\"Item_Outlet_Sales\"].mean().plot.bar()\n",
    "plt.ylabel(\"Mean of Item outlet sales\")"
   ]
  },
  {
   "cell_type": "code",
   "execution_count": 87,
   "metadata": {
    "execution": {
     "iopub.execute_input": "2023-01-18T09:04:34.009163Z",
     "iopub.status.busy": "2023-01-18T09:04:34.008434Z",
     "iopub.status.idle": "2023-01-18T09:04:34.141145Z",
     "shell.execute_reply": "2023-01-18T09:04:34.139916Z",
     "shell.execute_reply.started": "2023-01-18T09:04:34.009114Z"
    }
   },
   "outputs": [
    {
     "name": "stdout",
     "output_type": "stream",
     "text": [
      "Low Fat    0.646649\n",
      "Regular    0.353351\n",
      "Name: Item_Fat_Content, dtype: float64\n"
     ]
    },
    {
     "data": {
      "image/png": "[encoded data removed]",
      "text/plain": [
       "<Figure size 432x288 with 1 Axes>"
      ]
     },
     "metadata": {
      "needs_background": "light"
     },
     "output_type": "display_data"
    }
   ],
   "source": [
    "sns.countplot(vis[\"Item_Fat_Content\"]).set_title=\"Item_Fat_Content\"\n",
    "print(vis[\"Item_Fat_Content\"].value_counts(normalize=True))\n",
    "plt.xticks(rotation=90)\n",
    "plt.show()"
   ]
  },
  {
   "cell_type": "code",
   "execution_count": 88,
   "metadata": {
    "execution": {
     "iopub.execute_input": "2023-01-18T09:04:34.143409Z",
     "iopub.status.busy": "2023-01-18T09:04:34.142849Z",
     "iopub.status.idle": "2023-01-18T09:04:34.308718Z",
     "shell.execute_reply": "2023-01-18T09:04:34.304169Z",
     "shell.execute_reply.started": "2023-01-18T09:04:34.143351Z"
    }
   },
   "outputs": [
    {
     "name": "stdout",
     "output_type": "stream",
     "text": [
      "Small     0.562940\n",
      "Medium    0.327725\n",
      "High      0.109335\n",
      "Name: Outlet_Size, dtype: float64\n"
     ]
    },
    {
     "data": {
      "image/png": "[encoded data removed]",
      "text/plain": [
       "<Figure size 432x288 with 1 Axes>"
      ]
     },
     "metadata": {
      "needs_background": "light"
     },
     "output_type": "display_data"
    }
   ],
   "source": [
    "sns.countplot(vis[\"Outlet_Size\"]).set_title=\"Outlet_Size\"\n",
    "print(vis[\"Outlet_Size\"].value_counts(normalize=True))\n",
    "plt.xticks(rotation=90)\n",
    "plt.show()"
   ]
  },
  {
   "cell_type": "code",
   "execution_count": 89,
   "metadata": {
    "execution": {
     "iopub.execute_input": "2023-01-18T09:04:34.311292Z",
     "iopub.status.busy": "2023-01-18T09:04:34.310577Z",
     "iopub.status.idle": "2023-01-18T09:04:34.464496Z",
     "shell.execute_reply": "2023-01-18T09:04:34.463335Z",
     "shell.execute_reply.started": "2023-01-18T09:04:34.311240Z"
    }
   },
   "outputs": [
    {
     "name": "stdout",
     "output_type": "stream",
     "text": [
      "Tier 3    0.393058\n",
      "Tier 2    0.326739\n",
      "Tier 1    0.280203\n",
      "Name: Outlet_Location_Type, dtype: float64\n"
     ]
    },
    {
     "data": {
      "image/png": "[encoded data removed]",
      "text/plain": [
       "<Figure size 432x288 with 1 Axes>"
      ]
     },
     "metadata": {
      "needs_background": "light"
     },
     "output_type": "display_data"
    }
   ],
   "source": [
    "sns.countplot(vis[\"Outlet_Location_Type\"]).set_title=\"Outlet_Location_Type\"\n",
    "print(vis[\"Outlet_Location_Type\"].value_counts(normalize=True))\n",
    "plt.xticks(rotation=90)\n",
    "plt.show()"
   ]
  },
  {
   "cell_type": "code",
   "execution_count": 90,
   "metadata": {
    "execution": {
     "iopub.execute_input": "2023-01-18T09:04:34.466725Z",
     "iopub.status.busy": "2023-01-18T09:04:34.466082Z",
     "iopub.status.idle": "2023-01-18T09:04:34.711612Z",
     "shell.execute_reply": "2023-01-18T09:04:34.710445Z",
     "shell.execute_reply.started": "2023-01-18T09:04:34.466675Z"
    }
   },
   "outputs": [
    {
     "name": "stdout",
     "output_type": "stream",
     "text": [
      "Fruits and Vegetables    0.141721\n",
      "Snack Foods              0.140031\n",
      "Household                0.108983\n",
      "Frozen Foods             0.100394\n",
      "Dairy                    0.079977\n",
      "Baking Goods             0.076457\n",
      "Canned                   0.076317\n",
      "Health and Hygiene       0.060406\n",
      "Meat                     0.051816\n",
      "Soft Drinks              0.051112\n",
      "Breads                   0.029288\n",
      "Hard Drinks              0.025486\n",
      "Others                   0.019713\n",
      "Starchy Foods            0.018938\n",
      "Breakfast                0.013095\n",
      "Seafood                  0.006266\n",
      "Name: Item_Type, dtype: float64\n"
     ]
    },
    {
     "data": {
      "image/png": "[encoded data removed]",
      "text/plain": [
       "<Figure size 432x288 with 1 Axes>"
      ]
     },
     "metadata": {
      "needs_background": "light"
     },
     "output_type": "display_data"
    }
   ],
   "source": [
    "sns.countplot(vis[\"Item_Type\"]).set_title=\"Item_Type\"\n",
    "print(vis[\"Item_Type\"].value_counts(normalize=True))\n",
    "plt.xticks(rotation=90)\n",
    "plt.show()"
   ]
  },
  {
   "cell_type": "code",
   "execution_count": 91,
   "metadata": {
    "execution": {
     "iopub.execute_input": "2023-01-18T09:04:34.713671Z",
     "iopub.status.busy": "2023-01-18T09:04:34.713235Z",
     "iopub.status.idle": "2023-01-18T09:04:35.970065Z",
     "shell.execute_reply": "2023-01-18T09:04:35.968976Z",
     "shell.execute_reply.started": "2023-01-18T09:04:34.713624Z"
    }
   },
   "outputs": [
    {
     "data": {
      "text/plain": [
       "<seaborn.axisgrid.JointGrid at 0x7f53af1a66d0>"
      ]
     },
     "execution_count": 91,
     "metadata": {},
     "output_type": "execute_result"
    },
    {
     "data": {
      "image/png": "[encoded data removed]",
      "text/plain": [
       "<Figure size 432x432 with 3 Axes>"
      ]
     },
     "metadata": {
      "needs_background": "light"
     },
     "output_type": "display_data"
    }
   ],
   "source": [
    "sns.jointplot(train[\"Item_Outlet_Sales\"],train[\"Item_MRP\"],kind=\"reg\")"
   ]
  },
  {
   "cell_type": "code",
   "execution_count": 92,
   "metadata": {
    "execution": {
     "iopub.execute_input": "2023-01-18T09:04:35.972792Z",
     "iopub.status.busy": "2023-01-18T09:04:35.971782Z",
     "iopub.status.idle": "2023-01-18T09:04:37.493272Z",
     "shell.execute_reply": "2023-01-18T09:04:37.492327Z",
     "shell.execute_reply.started": "2023-01-18T09:04:35.972737Z"
    }
   },
   "outputs": [
    {
     "data": {
      "text/plain": [
       "<seaborn.axisgrid.JointGrid at 0x7f53af045990>"
      ]
     },
     "execution_count": 92,
     "metadata": {},
     "output_type": "execute_result"
    },
    {
     "data": {
      "image/png": "[encoded data removed]",
      "text/plain": [
       "<Figure size 432x432 with 3 Axes>"
      ]
     },
     "metadata": {
      "needs_background": "light"
     },
     "output_type": "display_data"
    }
   ],
   "source": [
    "sns.jointplot(train[\"Item_Outlet_Sales\"],train[\"Item_Visibility\"],kind=\"reg\")"
   ]
  },
  {
   "cell_type": "markdown",
   "metadata": {},
   "source": [
    "# Conclusions:\n",
    "<b>After plotting vatious graphs and plotting of heatmap:\n",
    "\n",
    "The most significant predictors is: Item_MRP\n",
    "\n",
    "The other significant predictors are: Outlet_Type, Outlet_Size, Outlet_Year.\n",
    "\n",
    "1 . Stores located in Tier 2 cities should have higher sales.\n",
    "\n",
    "2 . Stores with higher population will have more sales.\n",
    "\n",
    "3 . Stores located within popular marketplaces should have higher sales because of better access to customers. \n",
    "\n",
    "4 . The most common food that people buy is Fruits nad Vegetables, Snack items and Frozen foods.\n",
    "\n",
    "5 . Though the number of small size shops are more, Medium and large shops get better sales as they can accomodate more items.\n",
    "\n",
    "Sales increase with respect to bigger size of outlet, lower prices of items, populat locations, variety of items available, number of years of establishment.</b>\n"
   ]
  }
 ],
 "metadata": {
  "kernelspec": {
   "display_name": "Python 3 (ipykernel)",
   "language": "python",
   "name": "python3"
  },
  "language_info": {
   "codemirror_mode": {
    "name": "ipython",
    "version": 3
   },
   "file_extension": ".py",
   "mimetype": "text/x-python",
   "name": "python",
   "nbconvert_exporter": "python",
   "pygments_lexer": "ipython3",
   "version": "3.9.13"
  }
 },
 "nbformat": 4,
 "nbformat_minor": 4
}
